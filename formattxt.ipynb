{
 "cells": [
  {
   "cell_type": "code",
   "execution_count": 1,
   "metadata": {},
   "outputs": [],
   "source": [
    "import matplotlib.pyplot as plt\n",
    "import pandas as pd\n",
    "import seaborn as sb\n",
    "%matplotlib inline"
   ]
  },
  {
   "cell_type": "markdown",
   "metadata": {},
   "source": [
    "# Data files full clean"
   ]
  },
  {
   "cell_type": "code",
   "execution_count": 2,
   "metadata": {
    "tags": []
   },
   "outputs": [],
   "source": [
    "import os\n",
    "import re\n",
    "\n",
    "if not os.path.exists(\"./cleandata\"):\n",
    "    os.makedirs(\"./cleandata\")\n",
    "content = os.listdir(\"./newdata\")\n",
    "\n",
    "for item in content:\n",
    "    # delete the text files and the urls files to clean the library\n",
    "    #print(item)\n",
    "    if item.find(\".txt\") > 0:\n",
    "        # print(item)\n",
    "        with open(\"./newdata/{}\".format(item), \"r\", encoding=\"iso-8859-1\") as f:\n",
    "            lines = f.readlines()\n",
    "        # if (os.path.exists(\"./cleandata/{}\".format(item))):\n",
    "        with open(\"./cleandata/{}\".format(item), \"w+\") as f:\n",
    "\n",
    "            for line in lines:\n",
    "                if \"10 Messungen\" in line.strip(\"\\n\"):\n",
    "                    line = line[line.find(\"Ch\") :]\n",
    "                    # print(newline)\n",
    "                # if (line.strip(\"\\n\") != \"þStartfischer1 p33-6 hf8 fc6x 0.9km\")\n",
    "                if \"Ch\" in line.strip(\"\\n\") or \"V\" in line.strip(\"\\n\"):\n",
    "                    f.write(line.replace(\";\", \"\"))\n",
    "f.close()\n",
    "\n",
    "# print(content)"
   ]
  },
  {
   "source": [
    "# Extract the Data and convert it to Dataframes and Excel files"
   ],
   "cell_type": "markdown",
   "metadata": {}
  },
  {
   "cell_type": "code",
   "execution_count": 4,
   "metadata": {},
   "outputs": [
    {
     "output_type": "error",
     "ename": "ModuleNotFoundError",
     "evalue": "No module named 'xlwt'",
     "traceback": [
      "\u001b[1;31m---------------------------------------------------------------------------\u001b[0m",
      "\u001b[1;31mModuleNotFoundError\u001b[0m                       Traceback (most recent call last)",
      "\u001b[1;32m<ipython-input-4-91cb077a5e04>\u001b[0m in \u001b[0;36m<module>\u001b[1;34m\u001b[0m\n\u001b[1;32m----> 1\u001b[1;33m \u001b[1;32mimport\u001b[0m \u001b[0mxlwt\u001b[0m\u001b[1;33m\u001b[0m\u001b[1;33m\u001b[0m\u001b[0m\n\u001b[0m\u001b[0;32m      2\u001b[0m \u001b[0ma\u001b[0m\u001b[1;33m=\u001b[0m\u001b[1;33m{\u001b[0m\u001b[1;33m}\u001b[0m\u001b[1;33m\u001b[0m\u001b[1;33m\u001b[0m\u001b[0m\n\u001b[0;32m      3\u001b[0m \u001b[0mlst\u001b[0m\u001b[1;33m=\u001b[0m\u001b[1;33m{\u001b[0m\u001b[1;33m}\u001b[0m\u001b[1;33m\u001b[0m\u001b[1;33m\u001b[0m\u001b[0m\n\u001b[0;32m      4\u001b[0m \u001b[0mcontent\u001b[0m \u001b[1;33m=\u001b[0m \u001b[0mos\u001b[0m\u001b[1;33m.\u001b[0m\u001b[0mlistdir\u001b[0m\u001b[1;33m(\u001b[0m\u001b[1;34m\"./cleandata\"\u001b[0m\u001b[1;33m)\u001b[0m\u001b[1;33m\u001b[0m\u001b[1;33m\u001b[0m\u001b[0m\n\u001b[0;32m      5\u001b[0m \u001b[0mresult\u001b[0m\u001b[1;33m=\u001b[0m\u001b[0mpd\u001b[0m\u001b[1;33m.\u001b[0m\u001b[0mDataFrame\u001b[0m\u001b[1;33m(\u001b[0m\u001b[1;33m)\u001b[0m\u001b[1;33m\u001b[0m\u001b[1;33m\u001b[0m\u001b[0m\n",
      "\u001b[1;31mModuleNotFoundError\u001b[0m: No module named 'xlwt'"
     ]
    }
   ],
   "source": [
    "import xlwt\n",
    "a={}\n",
    "lst={}\n",
    "content = os.listdir(\"./cleandata\")\n",
    "result=pd.DataFrame()\n",
    "verhaeltnis=pd.DataFrame()\n",
    "deltas=pd.DataFrame()\n",
    "for x in content:\n",
    "    if (x.find(\".txt\") > 0 and x != \".git\"):\n",
    "        #print(x)\n",
    "        df = pd.read_csv(\"./cleandata/{}\".format(x),names=[\"channal\", \"min\", \"max\", \"x\", \"y\"],sep=\"\\s+\",encoding=\"ISO-8859-1\")\n",
    "        dx = df.drop([\"x\", \"y\"], axis=1)\n",
    "        dx[\"min\"] = dx[\"min\"]  # .map(lambda x: x.lstrip(\"+-;\").rstrip(\"aAbBcC;\"))\n",
    "        dx[\"channal\"] = dx[\"channal\"]  # .map(lambda x: x.lstrip(\";\").rstrip(\";\"))\n",
    "        if 100 in dx.index:\n",
    "            dx = dx.drop(100)\n",
    "        dx[\"min\"] = pd.to_numeric(dx[\"min\"])\n",
    "        dx[\"max\"] = pd.to_numeric(dx[\"max\"])\n",
    "        dx[\"deltas\"] = dx[\"max\"] - dx[\"min\"]\n",
    "        #dx[\"name\"]=x.strip('.txt')\n",
    "        ########### Extract channals ######\n",
    "\n",
    "        ch0=dx[dx.channal == \"Ch0:\"]\n",
    "        ch1=dx[dx.channal == \"Ch1:\"]\n",
    "        ch2=dx[dx.channal == \"Ch2:\"]\n",
    "        ch3=dx[dx.channal == \"Ch3:\"]\n",
    "        ch4=dx[dx.channal == \"Ch4:\"]\n",
    "        ch5=dx[dx.channal == \"Ch5:\"]\n",
    "        ch6=dx[dx.channal == \"Ch6:\"]\n",
    "        ch7=dx[dx.channal == \"Ch7:\"]\n",
    "        ch8=dx[dx.channal == \"Ch8:\"]\n",
    "        #print(ch0.head())\n",
    "        ############ build the deltas #############\n",
    "        delta0= ch0[\"max\"] -  ch0[\"min\"]\n",
    "        lst['delta0']=delta0\n",
    "        delta1= ch1[\"max\"] -  ch1[\"min\"]\n",
    "        lst['delta1']=delta1\n",
    "        delta2= ch2[\"max\"] -  ch2[\"min\"]\n",
    "        lst['delta2']=delta2\n",
    "        delta3= ch3[\"max\"] -  ch3[\"min\"]\n",
    "        lst['delta3']=delta3\n",
    "        delta4= ch4[\"max\"] -  ch4[\"min\"]\n",
    "        lst['delta4']=delta4\n",
    "        delta5= ch5[\"max\"] -  ch5[\"min\"]\n",
    "        lst['delta5']=delta5\n",
    "        delta6= ch6[\"max\"] -  ch6[\"min\"]\n",
    "        lst['delta6']=delta6\n",
    "        delta7= ch7[\"max\"] -  ch7[\"min\"]\n",
    "        lst['delta7']=delta7\n",
    "        delta8= ch8[\"max\"] -  ch8[\"min\"]\n",
    "        lst['delta8']=delta8\n",
    "        #print(delta0.head())\n",
    "        ##################### format reset index\n",
    "\n",
    "        df_new = pd.DataFrame.from_dict(lst)\n",
    "        df_new=df_new.apply(lambda x: pd.Series(x.dropna().values))\n",
    "        #print(df_new.head(3))\n",
    "        #df_new.to_excel(\"dfnew.xlsx\")\n",
    "        dv=dx[dx.channal == \"V:\"]\n",
    "        ########## connect the name of Measurement\n",
    "        dv.index.name=x.strip('.txt')\n",
    "        dx.index.name = x.strip('.txt')\n",
    "        df_new.index.name=x.strip('.txt')\n",
    "\n",
    "        dx=dx.reset_index()\n",
    "        dv=dv.reset_index()\n",
    "        df_new=df_new.reset_index()\n",
    "\n",
    "        if not (dx.empty):\n",
    "            a[x.strip('.txt')]=dx\n",
    "        dv=dv.replace('V:', 'V:{}'.format(x.strip('.txt')))\n",
    "        rows=df_new.shape[0]\n",
    "        #print(rows)\n",
    "        for row in range(rows):\n",
    "            df_new[\"name\"]=x.strip('.txt')\n",
    "        #drop empty Dataframes\n",
    "        if not (dx.empty):\n",
    "            result=pd.concat([result,dx.append(pd.Series(name='V_Spacer',dtype='float'))],axis=1)\n",
    "            verhaeltnis=pd.concat([verhaeltnis,dv],axis=1)\n",
    "            new_df=result.append(verhaeltnis)\n",
    "            deltas=pd.concat([deltas,df_new],axis=1)\n",
    "\n",
    "        rows= deltas.shape[0]\n",
    "\n",
    "\n",
    "#new_df=pd.concat([result,verhaeltnis])\n",
    "#print(result.head())\n",
    "#result.to_excel(\"result.xlsx\")\n",
    "verhaeltnis=verhaeltnis.drop([\"max\",\"deltas\"], axis=1)\n",
    "verhaeltnis=verhaeltnis.rename(columns={\"min\": \"V\"})\n",
    "verhaeltnis.head()\n",
    "#verhaeltnis.to_excel(\"verhaeltnis.xlsx\")\n",
    "# verhaeltnis.to_excel(\"FullData.xlsx\",sheet_name='verhältnis')\n",
    "#deltas.to_excel(\"deltas.xlsx\")\n",
    "# deltas.to_excel(\"FullData.xlsx\",sheet_name='deltas')\n",
    "new_df.to_excel(\"FullData.xls\",sheet_name='fullData')\n",
    "with pd.ExcelWriter('FullDataAll.xlsx') as writer:\n",
    "    result.to_excel(writer, sheet_name='cleanValues')  \n",
    "    new_df.to_excel(writer, sheet_name='cleanWithVerhältnis')\n",
    "    deltas.to_excel(writer, sheet_name='deltas')\n",
    "    verhaeltnis.to_excel(writer, sheet_name='verhaeltnis')\n",
    "    new_df[\"spacer1\"]=\" \"\n",
    "    new_df[\"spacer2\"]=\" \"\n",
    "    merged_df=pd.merge(new_df,deltas.reset_index(),how='outer')\n",
    "    merged_df.to_excel(writer, sheet_name='FullDataAll')\n"
   ]
  },
  {
   "cell_type": "code",
   "execution_count": 185,
   "metadata": {},
   "outputs": [
    {
     "output_type": "execute_result",
     "data": {
      "text/plain": [
       "   fischer1_p33_6_hf8_fc6x_0_9km                          channal     min max  \\\n",
       "5                           59.0  V:fischer1_p33_6_hf8_fc6x_0_9km  1483.0 NaN   \n",
       "6                           69.0  V:fischer1_p33_6_hf8_fc6x_0_9km  1734.0 NaN   \n",
       "7                           79.0  V:fischer1_p33_6_hf8_fc6x_0_9km  1547.0 NaN   \n",
       "8                           89.0  V:fischer1_p33_6_hf8_fc6x_0_9km  1735.0 NaN   \n",
       "9                           99.0  V:fischer1_p33_6_hf8_fc6x_0_9km  1549.0 NaN   \n",
       "\n",
       "   deltas  fischer1_p33_6_hf8_fc6x_4km                        channal     min  \\\n",
       "5     NaN                         59.0  V:fischer1_p33_6_hf8_fc6x_4km  1845.0   \n",
       "6     NaN                         69.0  V:fischer1_p33_6_hf8_fc6x_4km  1651.0   \n",
       "7     NaN                         79.0  V:fischer1_p33_6_hf8_fc6x_4km  1849.0   \n",
       "8     NaN                         89.0  V:fischer1_p33_6_hf8_fc6x_4km  1301.0   \n",
       "9     NaN                         99.0  V:fischer1_p33_6_hf8_fc6x_4km  1799.0   \n",
       "\n",
       "  max  deltas  ...     min max  deltas  madshus_base7_ts_blue_poin  \\\n",
       "5 NaN     NaN  ...  1058.0 NaN     NaN                        59.0   \n",
       "6 NaN     NaN  ...   393.0 NaN     NaN                        69.0   \n",
       "7 NaN     NaN  ...   550.0 NaN     NaN                        79.0   \n",
       "8 NaN     NaN  ...   865.0 NaN     NaN                        89.0   \n",
       "9 NaN     NaN  ...     NaN NaN     NaN                        99.0   \n",
       "\n",
       "                        channal     min max  deltas  spacer1  spacer2  \n",
       "5  V:madshus_base7_ts_blue_poin  1029.0 NaN     NaN                    \n",
       "6  V:madshus_base7_ts_blue_poin  1043.0 NaN     NaN                    \n",
       "7  V:madshus_base7_ts_blue_poin  1037.0 NaN     NaN                    \n",
       "8  V:madshus_base7_ts_blue_poin  1064.0 NaN     NaN                    \n",
       "9  V:madshus_base7_ts_blue_poin  1004.0 NaN     NaN                    \n",
       "\n",
       "[5 rows x 47 columns]"
      ],
      "text/html": "<div>\n<style scoped>\n    .dataframe tbody tr th:only-of-type {\n        vertical-align: middle;\n    }\n\n    .dataframe tbody tr th {\n        vertical-align: top;\n    }\n\n    .dataframe thead th {\n        text-align: right;\n    }\n</style>\n<table border=\"1\" class=\"dataframe\">\n  <thead>\n    <tr style=\"text-align: right;\">\n      <th></th>\n      <th>fischer1_p33_6_hf8_fc6x_0_9km</th>\n      <th>channal</th>\n      <th>min</th>\n      <th>max</th>\n      <th>deltas</th>\n      <th>fischer1_p33_6_hf8_fc6x_4km</th>\n      <th>channal</th>\n      <th>min</th>\n      <th>max</th>\n      <th>deltas</th>\n      <th>...</th>\n      <th>min</th>\n      <th>max</th>\n      <th>deltas</th>\n      <th>madshus_base7_ts_blue_poin</th>\n      <th>channal</th>\n      <th>min</th>\n      <th>max</th>\n      <th>deltas</th>\n      <th>spacer1</th>\n      <th>spacer2</th>\n    </tr>\n  </thead>\n  <tbody>\n    <tr>\n      <th>5</th>\n      <td>59.0</td>\n      <td>V:fischer1_p33_6_hf8_fc6x_0_9km</td>\n      <td>1483.0</td>\n      <td>NaN</td>\n      <td>NaN</td>\n      <td>59.0</td>\n      <td>V:fischer1_p33_6_hf8_fc6x_4km</td>\n      <td>1845.0</td>\n      <td>NaN</td>\n      <td>NaN</td>\n      <td>...</td>\n      <td>1058.0</td>\n      <td>NaN</td>\n      <td>NaN</td>\n      <td>59.0</td>\n      <td>V:madshus_base7_ts_blue_poin</td>\n      <td>1029.0</td>\n      <td>NaN</td>\n      <td>NaN</td>\n      <td></td>\n      <td></td>\n    </tr>\n    <tr>\n      <th>6</th>\n      <td>69.0</td>\n      <td>V:fischer1_p33_6_hf8_fc6x_0_9km</td>\n      <td>1734.0</td>\n      <td>NaN</td>\n      <td>NaN</td>\n      <td>69.0</td>\n      <td>V:fischer1_p33_6_hf8_fc6x_4km</td>\n      <td>1651.0</td>\n      <td>NaN</td>\n      <td>NaN</td>\n      <td>...</td>\n      <td>393.0</td>\n      <td>NaN</td>\n      <td>NaN</td>\n      <td>69.0</td>\n      <td>V:madshus_base7_ts_blue_poin</td>\n      <td>1043.0</td>\n      <td>NaN</td>\n      <td>NaN</td>\n      <td></td>\n      <td></td>\n    </tr>\n    <tr>\n      <th>7</th>\n      <td>79.0</td>\n      <td>V:fischer1_p33_6_hf8_fc6x_0_9km</td>\n      <td>1547.0</td>\n      <td>NaN</td>\n      <td>NaN</td>\n      <td>79.0</td>\n      <td>V:fischer1_p33_6_hf8_fc6x_4km</td>\n      <td>1849.0</td>\n      <td>NaN</td>\n      <td>NaN</td>\n      <td>...</td>\n      <td>550.0</td>\n      <td>NaN</td>\n      <td>NaN</td>\n      <td>79.0</td>\n      <td>V:madshus_base7_ts_blue_poin</td>\n      <td>1037.0</td>\n      <td>NaN</td>\n      <td>NaN</td>\n      <td></td>\n      <td></td>\n    </tr>\n    <tr>\n      <th>8</th>\n      <td>89.0</td>\n      <td>V:fischer1_p33_6_hf8_fc6x_0_9km</td>\n      <td>1735.0</td>\n      <td>NaN</td>\n      <td>NaN</td>\n      <td>89.0</td>\n      <td>V:fischer1_p33_6_hf8_fc6x_4km</td>\n      <td>1301.0</td>\n      <td>NaN</td>\n      <td>NaN</td>\n      <td>...</td>\n      <td>865.0</td>\n      <td>NaN</td>\n      <td>NaN</td>\n      <td>89.0</td>\n      <td>V:madshus_base7_ts_blue_poin</td>\n      <td>1064.0</td>\n      <td>NaN</td>\n      <td>NaN</td>\n      <td></td>\n      <td></td>\n    </tr>\n    <tr>\n      <th>9</th>\n      <td>99.0</td>\n      <td>V:fischer1_p33_6_hf8_fc6x_0_9km</td>\n      <td>1549.0</td>\n      <td>NaN</td>\n      <td>NaN</td>\n      <td>99.0</td>\n      <td>V:fischer1_p33_6_hf8_fc6x_4km</td>\n      <td>1799.0</td>\n      <td>NaN</td>\n      <td>NaN</td>\n      <td>...</td>\n      <td>NaN</td>\n      <td>NaN</td>\n      <td>NaN</td>\n      <td>99.0</td>\n      <td>V:madshus_base7_ts_blue_poin</td>\n      <td>1004.0</td>\n      <td>NaN</td>\n      <td>NaN</td>\n      <td></td>\n      <td></td>\n    </tr>\n  </tbody>\n</table>\n<p>5 rows × 47 columns</p>\n</div>"
     },
     "metadata": {},
     "execution_count": 185
    }
   ],
   "source": [
    "#print(new_df.head())\n",
    "#print(deltas.head())\n",
    "new_df[\"spacer1\"]=\" \"\n",
    "new_df[\"spacer2\"]=\" \"\n",
    "merged_df=pd.merge(new_df,deltas.reset_index(),how='outer')\n",
    "merged_df.to_excel(\"merged.xlsx\")\n",
    "new_df.tail()"
   ]
  },
  {
   "cell_type": "code",
   "execution_count": 182,
   "metadata": {},
   "outputs": [
    {
     "output_type": "execute_result",
     "data": {
      "text/plain": [
       "   fischer1_p33_6_hf8_fc6x_0_9km     delta0    delta1     delta2    delta3  \\\n",
       "5                              5  1615185.0  891345.0   993157.0  661094.0   \n",
       "6                              6  1634617.0  884525.0   949401.0  623054.0   \n",
       "7                              7  1670156.0  907992.0  1006848.0  664693.0   \n",
       "8                              8  1620760.0  876338.0   947155.0  617114.0   \n",
       "9                              9  1575421.0  875885.0   938637.0  640912.0   \n",
       "\n",
       "    delta4     delta5    delta6    delta7    delta8  ...    delta1    delta2  \\\n",
       "5  65904.0  2985950.0  288194.0  201955.0  832681.0  ...  810495.0  989422.0   \n",
       "6  65548.0  3513933.0  295455.0  213389.0  829571.0  ...  812788.0  982172.0   \n",
       "7  67719.0  3724424.0  304490.0  225144.0  913982.0  ...  822083.0  994893.0   \n",
       "8  69606.0  4010816.0  256399.0  212102.0  705566.0  ...  811023.0  991592.0   \n",
       "9  65455.0  4085911.0  270144.0  207163.0  807122.0  ...  811095.0  989232.0   \n",
       "\n",
       "     delta3   delta4     delta5    delta6    delta7    delta8  \\\n",
       "5  659191.0  54274.0  5657076.0  256138.0  163997.0  712343.0   \n",
       "6  659128.0  54998.0  5791345.0  255976.0  164437.0  710690.0   \n",
       "7  667552.0  56311.0  5907071.0  254746.0  164004.0  707252.0   \n",
       "8  654957.0  54111.0  6034483.0  253999.0  165911.0  706846.0   \n",
       "9  663076.0  54215.0  6200550.0  253279.0  164666.0  706860.0   \n",
       "\n",
       "                         name  spacer  \n",
       "5  madshus_base7_ts_blue_poin          \n",
       "6  madshus_base7_ts_blue_poin          \n",
       "7  madshus_base7_ts_blue_poin          \n",
       "8  madshus_base7_ts_blue_poin          \n",
       "9  madshus_base7_ts_blue_poin          \n",
       "\n",
       "[5 rows x 100 columns]"
      ],
      "text/html": "<div>\n<style scoped>\n    .dataframe tbody tr th:only-of-type {\n        vertical-align: middle;\n    }\n\n    .dataframe tbody tr th {\n        vertical-align: top;\n    }\n\n    .dataframe thead th {\n        text-align: right;\n    }\n</style>\n<table border=\"1\" class=\"dataframe\">\n  <thead>\n    <tr style=\"text-align: right;\">\n      <th></th>\n      <th>fischer1_p33_6_hf8_fc6x_0_9km</th>\n      <th>delta0</th>\n      <th>delta1</th>\n      <th>delta2</th>\n      <th>delta3</th>\n      <th>delta4</th>\n      <th>delta5</th>\n      <th>delta6</th>\n      <th>delta7</th>\n      <th>delta8</th>\n      <th>...</th>\n      <th>delta1</th>\n      <th>delta2</th>\n      <th>delta3</th>\n      <th>delta4</th>\n      <th>delta5</th>\n      <th>delta6</th>\n      <th>delta7</th>\n      <th>delta8</th>\n      <th>name</th>\n      <th>spacer</th>\n    </tr>\n  </thead>\n  <tbody>\n    <tr>\n      <th>5</th>\n      <td>5</td>\n      <td>1615185.0</td>\n      <td>891345.0</td>\n      <td>993157.0</td>\n      <td>661094.0</td>\n      <td>65904.0</td>\n      <td>2985950.0</td>\n      <td>288194.0</td>\n      <td>201955.0</td>\n      <td>832681.0</td>\n      <td>...</td>\n      <td>810495.0</td>\n      <td>989422.0</td>\n      <td>659191.0</td>\n      <td>54274.0</td>\n      <td>5657076.0</td>\n      <td>256138.0</td>\n      <td>163997.0</td>\n      <td>712343.0</td>\n      <td>madshus_base7_ts_blue_poin</td>\n      <td></td>\n    </tr>\n    <tr>\n      <th>6</th>\n      <td>6</td>\n      <td>1634617.0</td>\n      <td>884525.0</td>\n      <td>949401.0</td>\n      <td>623054.0</td>\n      <td>65548.0</td>\n      <td>3513933.0</td>\n      <td>295455.0</td>\n      <td>213389.0</td>\n      <td>829571.0</td>\n      <td>...</td>\n      <td>812788.0</td>\n      <td>982172.0</td>\n      <td>659128.0</td>\n      <td>54998.0</td>\n      <td>5791345.0</td>\n      <td>255976.0</td>\n      <td>164437.0</td>\n      <td>710690.0</td>\n      <td>madshus_base7_ts_blue_poin</td>\n      <td></td>\n    </tr>\n    <tr>\n      <th>7</th>\n      <td>7</td>\n      <td>1670156.0</td>\n      <td>907992.0</td>\n      <td>1006848.0</td>\n      <td>664693.0</td>\n      <td>67719.0</td>\n      <td>3724424.0</td>\n      <td>304490.0</td>\n      <td>225144.0</td>\n      <td>913982.0</td>\n      <td>...</td>\n      <td>822083.0</td>\n      <td>994893.0</td>\n      <td>667552.0</td>\n      <td>56311.0</td>\n      <td>5907071.0</td>\n      <td>254746.0</td>\n      <td>164004.0</td>\n      <td>707252.0</td>\n      <td>madshus_base7_ts_blue_poin</td>\n      <td></td>\n    </tr>\n    <tr>\n      <th>8</th>\n      <td>8</td>\n      <td>1620760.0</td>\n      <td>876338.0</td>\n      <td>947155.0</td>\n      <td>617114.0</td>\n      <td>69606.0</td>\n      <td>4010816.0</td>\n      <td>256399.0</td>\n      <td>212102.0</td>\n      <td>705566.0</td>\n      <td>...</td>\n      <td>811023.0</td>\n      <td>991592.0</td>\n      <td>654957.0</td>\n      <td>54111.0</td>\n      <td>6034483.0</td>\n      <td>253999.0</td>\n      <td>165911.0</td>\n      <td>706846.0</td>\n      <td>madshus_base7_ts_blue_poin</td>\n      <td></td>\n    </tr>\n    <tr>\n      <th>9</th>\n      <td>9</td>\n      <td>1575421.0</td>\n      <td>875885.0</td>\n      <td>938637.0</td>\n      <td>640912.0</td>\n      <td>65455.0</td>\n      <td>4085911.0</td>\n      <td>270144.0</td>\n      <td>207163.0</td>\n      <td>807122.0</td>\n      <td>...</td>\n      <td>811095.0</td>\n      <td>989232.0</td>\n      <td>663076.0</td>\n      <td>54215.0</td>\n      <td>6200550.0</td>\n      <td>253279.0</td>\n      <td>164666.0</td>\n      <td>706860.0</td>\n      <td>madshus_base7_ts_blue_poin</td>\n      <td></td>\n    </tr>\n  </tbody>\n</table>\n<p>5 rows × 100 columns</p>\n</div>"
     },
     "metadata": {},
     "execution_count": 182
    }
   ],
   "source": [
    "deltas[\"spacer\"]=\" \"\n",
    "deltas.tail()"
   ]
  },
  {
   "cell_type": "code",
   "execution_count": 157,
   "metadata": {},
   "outputs": [
    {
     "output_type": "execute_result",
     "data": {
      "text/plain": [
       "(111, 45)"
      ]
     },
     "metadata": {},
     "execution_count": 157
    }
   ],
   "source": [
    "new_df.shape"
   ]
  },
  {
   "cell_type": "code",
   "execution_count": null,
   "metadata": {},
   "outputs": [],
   "source": []
  }
 ],
 "metadata": {
  "kernelspec": {
   "name": "python3",
   "display_name": "Python 3",
   "language": "python"
  },
  "language_info": {
   "codemirror_mode": {
    "name": "ipython",
    "version": 3
   },
   "file_extension": ".py",
   "mimetype": "text/x-python",
   "name": "python",
   "nbconvert_exporter": "python",
   "pygments_lexer": "ipython3",
   "version": "3.8.6-final"
  }
 },
 "nbformat": 4,
 "nbformat_minor": 4
}