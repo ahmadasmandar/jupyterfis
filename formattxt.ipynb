{
 "cells": [
  {
   "cell_type": "code",
   "execution_count": 2,
   "metadata": {},
   "outputs": [],
   "source": [
    "import matplotlib.pyplot as plt\n",
    "import pandas as pd\n",
    "import seaborn as sb"
   ]
  },
  {
   "cell_type": "markdown",
   "metadata": {},
   "source": [
    "# Data files full clean"
   ]
  },
  {
   "cell_type": "code",
   "execution_count": 3,
   "metadata": {
    "tags": []
   },
   "outputs": [
    {
     "name": "stdout",
     "output_type": "stream",
     "text": [
      "fischer2_p33_6_hf8_fc6x_4km.txt\n",
      "madshus_base7_ts_blue_ clockwise 45 turn.txt\n",
      "fischer1_p33_6_hf8_fc6x_4km.txt\n",
      "madshus_base7_ts_blue_point.txt\n",
      "madshus_base7_ts_blue.txt\n",
      "fischer_p33_6_hf8_fc6x.txt\n",
      "fischer2_p33_6_hf8_fc6x.txt\n",
      "fischer1_p33_6_hf8_fc6x_0_9km.txt\n",
      "fischer2_p33_6_hf8_fc6x_0_9km.txt\n"
     ]
    }
   ],
   "source": [
    "import os\n",
    "import re\n",
    "\n",
    "if not os.path.exists(\"./cleandata\"):\n",
    "    os.makedirs(\"./cleandata\")\n",
    "content = os.listdir(\"./newdata\")\n",
    "\n",
    "for item in content:\n",
    "    # delete the text files and the urls files to clean the library\n",
    "    print(item)\n",
    "    if item.find(\".txt\") > 0:\n",
    "        # print(item)\n",
    "        with open(\"./newdata/{}\".format(item), \"r\", encoding=\"iso-8859-1\") as f:\n",
    "            lines = f.readlines()\n",
    "        # if (os.path.exists(\"./cleandata/{}\".format(item))):\n",
    "        with open(\"./cleandata/{}\".format(item), \"w+\") as f:\n",
    "\n",
    "            for line in lines:\n",
    "                if \"10 Messungen\" in line.strip(\"\\n\"):\n",
    "                    line = line[line.find(\"Ch\") :]\n",
    "                    # print(newline)\n",
    "                # if (line.strip(\"\\n\") != \"þStartfischer1 p33-6 hf8 fc6x 0.9km\")\n",
    "                if \"Ch\" in line.strip(\"\\n\") or \"V\" in line.strip(\"\\n\"):\n",
    "                    f.write(line.replace(\";\", \"\"))\n",
    "f.close()\n",
    "\n",
    "# print(content)"
   ]
  },
  {
   "cell_type": "code",
   "execution_count": 18,
   "metadata": {},
   "outputs": [
    {
     "name": "stdout",
     "output_type": "stream",
     "text": [
      "                                channal      min        max     deltas\n",
      "fischer2_p33_6_hf8_fc6x_4km.txt                                       \n",
      "0                                  Ch0:  4433955  6042328.0  1608373.0\n",
      "1                                  Ch1:  4432469  5269910.0   837441.0\n",
      "2                                  Ch2:  4404755  5332808.0   928053.0\n",
      "3                                  Ch3:  4400764  4990275.0   589511.0\n",
      "4                                  Ch4:      439    65522.0    65083.0\n",
      "                                             channal      min        max  \\\n",
      "madshus_base7_ts_blue_ clockwise 45 turn.txt                               \n",
      "0                                               Ch0:  4436328  5838693.0   \n",
      "1                                               Ch1:  4438486  5211841.0   \n",
      "2                                               Ch2:  4406715  5393239.0   \n",
      "3                                               Ch3:  4405022  5047324.0   \n",
      "4                                               Ch4:       51    53840.0   \n",
      "\n",
      "                                                 deltas  \n",
      "madshus_base7_ts_blue_ clockwise 45 turn.txt             \n",
      "0                                             1402365.0  \n",
      "1                                              773355.0  \n",
      "2                                              986524.0  \n",
      "3                                              642302.0  \n",
      "4                                               53789.0  \n",
      "                                channal      min        max     deltas\n",
      "fischer1_p33_6_hf8_fc6x_4km.txt                                       \n",
      "0                                  Ch0:  4377246  6136439.0  1759193.0\n",
      "1                                  Ch1:  4361919  5299389.0   937470.0\n",
      "2                                  Ch2:  4347099  5412315.0  1065216.0\n",
      "3                                  Ch3:  4336738  5034490.0   697752.0\n",
      "4                                  Ch4:       76    72195.0    72119.0\n",
      "                                channal      min        max     deltas\n",
      "madshus_base7_ts_blue_point.txt                                       \n",
      "0                                  Ch0:  4434170  5894166.0  1459996.0\n",
      "1                                  Ch1:  4435687  5236690.0   801003.0\n",
      "2                                  Ch2:  4408914  5386563.0   977649.0\n",
      "3                                  Ch3:  4409267  5066288.0   657021.0\n",
      "4                                  Ch4:       82    53885.0    53803.0\n",
      "                          channal      min        max     deltas\n",
      "madshus_base7_ts_blue.txt                                       \n",
      "0                            Ch0:  4370101  5912818.0  1542717.0\n",
      "1                            Ch1:  4382049  5252938.0   870889.0\n",
      "2                            Ch2:  4350132  5407328.0  1057196.0\n",
      "3                            Ch3:  4333044  5094175.0   761131.0\n",
      "4                            Ch4:       39    55917.0    55878.0\n",
      "                           channal      min        max     deltas\n",
      "fischer_p33_6_hf8_fc6x.txt                                       \n",
      "0                             Ch0:  4379160  6024386.0  1645226.0\n",
      "1                             Ch1:  4377638  5268408.0   890770.0\n",
      "2                             Ch2:  4350030  5318254.0   968224.0\n",
      "3                             Ch3:  4345238  4996561.0   651323.0\n",
      "4                             Ch4:      212    69019.0    68807.0\n",
      "                            channal      min        max     deltas\n",
      "fischer2_p33_6_hf8_fc6x.txt                                       \n",
      "0                              Ch0:  4439164  6123800.0  1684636.0\n",
      "1                              Ch1:  4436158  5315160.0   879002.0\n",
      "2                              Ch2:  4407620  5356954.0   949334.0\n",
      "3                              Ch3:  4410351  5013089.0   602738.0\n",
      "4                              Ch4:     1407    64702.0    63295.0\n",
      "                                  channal      min        max     deltas\n",
      "fischer1_p33_6_hf8_fc6x_0_9km.txt                                       \n",
      "0                                    Ch0:  4376072  6191629.0  1815557.0\n",
      "1                                    Ch1:  4379084  5293305.0   914221.0\n",
      "2                                    Ch2:  4349189  5417217.0  1068028.0\n",
      "3                                    Ch3:  4343124  5027139.0   684015.0\n",
      "4                                    Ch4:       80    70904.0    70824.0\n",
      "                                  channal      min        max     deltas\n",
      "fischer2_p33_6_hf8_fc6x_0_9km.txt                                       \n",
      "0                                    Ch0:  4374546  6080874.0  1706328.0\n",
      "1                                    Ch1:  4377508  5340762.0   963254.0\n",
      "2                                    Ch2:  4346741  5375178.0  1028437.0\n",
      "3                                    Ch3:  4346023  5035533.0   689510.0\n",
      "4                                    Ch4:       74    67105.0    67031.0\n"
     ]
    }
   ],
   "source": [
    "a = {}\n",
    "\n",
    "for x in content:\n",
    "    # print(x)\n",
    "    df = pd.read_csv(\n",
    "        \"./cleandata/{}\".format(x),\n",
    "        names=[\"channal\", \"min\", \"max\", \"x\", \"y\"],\n",
    "        sep=\"\\s+\",\n",
    "        encoding=\"utf\",\n",
    "    )\n",
    "    dx = df.drop([\"x\", \"y\"], axis=1)\n",
    "    # print(df.head())\n",
    "    dx[\"min\"] = dx[\"min\"]  # .map(lambda x: x.lstrip(\"+-;\").rstrip(\"aAbBcC;\"))\n",
    "    dx[\"channal\"] = dx[\"channal\"]  # .map(lambda x: x.lstrip(\";\").rstrip(\";\"))\n",
    "    # idx=dx.index();\n",
    "    if 100 in dx.index:\n",
    "        dx = dx.drop(100)\n",
    "    dx[\"min\"] = pd.to_numeric(dx[\"min\"])\n",
    "    dx[\"max\"] = pd.to_numeric(dx[\"max\"])\n",
    "    dx[\"deltas\"] = dx[\"max\"] - dx[\"min\"]\n",
    "    dx.index.name = x\n",
    "    a[x] = dx\n",
    "    print(a[x].head())\n",
    "    # break;"
   ]
  },
  {
   "cell_type": "code",
   "execution_count": 46,
   "metadata": {
    "scrolled": true
   },
   "outputs": [
    {
     "ename": "TypeError",
     "evalue": "Object of type DataFrame is not JSON serializable",
     "output_type": "error",
     "traceback": [
      "\u001b[0;31m---------------------------------------------------------------------------\u001b[0m",
      "\u001b[0;31mTypeError\u001b[0m                                 Traceback (most recent call last)",
      "\u001b[0;32m<ipython-input-46-b0a53b7d03c8>\u001b[0m in \u001b[0;36m<module>\u001b[0;34m\u001b[0m\n\u001b[1;32m      7\u001b[0m \u001b[0;31m#exDict = {\"exDict\": a}\u001b[0m\u001b[0;34m\u001b[0m\u001b[0;34m\u001b[0m\u001b[0;34m\u001b[0m\u001b[0m\n\u001b[1;32m      8\u001b[0m \u001b[0;32mwith\u001b[0m \u001b[0mopen\u001b[0m\u001b[0;34m(\u001b[0m\u001b[0;34m\"data.txt\"\u001b[0m\u001b[0;34m,\u001b[0m \u001b[0;34m\"w\"\u001b[0m\u001b[0;34m)\u001b[0m \u001b[0;32mas\u001b[0m \u001b[0mfile\u001b[0m\u001b[0;34m:\u001b[0m\u001b[0;34m\u001b[0m\u001b[0;34m\u001b[0m\u001b[0m\n\u001b[0;32m----> 9\u001b[0;31m     \u001b[0mfile\u001b[0m\u001b[0;34m.\u001b[0m\u001b[0mwrite\u001b[0m\u001b[0;34m(\u001b[0m\u001b[0mjson\u001b[0m\u001b[0;34m.\u001b[0m\u001b[0mdumps\u001b[0m\u001b[0;34m(\u001b[0m\u001b[0ma\u001b[0m\u001b[0;34m)\u001b[0m\u001b[0;34m)\u001b[0m  \u001b[0;31m# use `json.loads` to do the reverse\u001b[0m\u001b[0;34m\u001b[0m\u001b[0;34m\u001b[0m\u001b[0m\n\u001b[0m",
      "\u001b[0;32m~/anaconda3/lib/python3.7/json/__init__.py\u001b[0m in \u001b[0;36mdumps\u001b[0;34m(obj, skipkeys, ensure_ascii, check_circular, allow_nan, cls, indent, separators, default, sort_keys, **kw)\u001b[0m\n\u001b[1;32m    229\u001b[0m         \u001b[0mcls\u001b[0m \u001b[0;32mis\u001b[0m \u001b[0;32mNone\u001b[0m \u001b[0;32mand\u001b[0m \u001b[0mindent\u001b[0m \u001b[0;32mis\u001b[0m \u001b[0;32mNone\u001b[0m \u001b[0;32mand\u001b[0m \u001b[0mseparators\u001b[0m \u001b[0;32mis\u001b[0m \u001b[0;32mNone\u001b[0m \u001b[0;32mand\u001b[0m\u001b[0;34m\u001b[0m\u001b[0;34m\u001b[0m\u001b[0m\n\u001b[1;32m    230\u001b[0m         default is None and not sort_keys and not kw):\n\u001b[0;32m--> 231\u001b[0;31m         \u001b[0;32mreturn\u001b[0m \u001b[0m_default_encoder\u001b[0m\u001b[0;34m.\u001b[0m\u001b[0mencode\u001b[0m\u001b[0;34m(\u001b[0m\u001b[0mobj\u001b[0m\u001b[0;34m)\u001b[0m\u001b[0;34m\u001b[0m\u001b[0;34m\u001b[0m\u001b[0m\n\u001b[0m\u001b[1;32m    232\u001b[0m     \u001b[0;32mif\u001b[0m \u001b[0mcls\u001b[0m \u001b[0;32mis\u001b[0m \u001b[0;32mNone\u001b[0m\u001b[0;34m:\u001b[0m\u001b[0;34m\u001b[0m\u001b[0;34m\u001b[0m\u001b[0m\n\u001b[1;32m    233\u001b[0m         \u001b[0mcls\u001b[0m \u001b[0;34m=\u001b[0m \u001b[0mJSONEncoder\u001b[0m\u001b[0;34m\u001b[0m\u001b[0;34m\u001b[0m\u001b[0m\n",
      "\u001b[0;32m~/anaconda3/lib/python3.7/json/encoder.py\u001b[0m in \u001b[0;36mencode\u001b[0;34m(self, o)\u001b[0m\n\u001b[1;32m    197\u001b[0m         \u001b[0;31m# exceptions aren't as detailed.  The list call should be roughly\u001b[0m\u001b[0;34m\u001b[0m\u001b[0;34m\u001b[0m\u001b[0;34m\u001b[0m\u001b[0m\n\u001b[1;32m    198\u001b[0m         \u001b[0;31m# equivalent to the PySequence_Fast that ''.join() would do.\u001b[0m\u001b[0;34m\u001b[0m\u001b[0;34m\u001b[0m\u001b[0;34m\u001b[0m\u001b[0m\n\u001b[0;32m--> 199\u001b[0;31m         \u001b[0mchunks\u001b[0m \u001b[0;34m=\u001b[0m \u001b[0mself\u001b[0m\u001b[0;34m.\u001b[0m\u001b[0miterencode\u001b[0m\u001b[0;34m(\u001b[0m\u001b[0mo\u001b[0m\u001b[0;34m,\u001b[0m \u001b[0m_one_shot\u001b[0m\u001b[0;34m=\u001b[0m\u001b[0;32mTrue\u001b[0m\u001b[0;34m)\u001b[0m\u001b[0;34m\u001b[0m\u001b[0;34m\u001b[0m\u001b[0m\n\u001b[0m\u001b[1;32m    200\u001b[0m         \u001b[0;32mif\u001b[0m \u001b[0;32mnot\u001b[0m \u001b[0misinstance\u001b[0m\u001b[0;34m(\u001b[0m\u001b[0mchunks\u001b[0m\u001b[0;34m,\u001b[0m \u001b[0;34m(\u001b[0m\u001b[0mlist\u001b[0m\u001b[0;34m,\u001b[0m \u001b[0mtuple\u001b[0m\u001b[0;34m)\u001b[0m\u001b[0;34m)\u001b[0m\u001b[0;34m:\u001b[0m\u001b[0;34m\u001b[0m\u001b[0;34m\u001b[0m\u001b[0m\n\u001b[1;32m    201\u001b[0m             \u001b[0mchunks\u001b[0m \u001b[0;34m=\u001b[0m \u001b[0mlist\u001b[0m\u001b[0;34m(\u001b[0m\u001b[0mchunks\u001b[0m\u001b[0;34m)\u001b[0m\u001b[0;34m\u001b[0m\u001b[0;34m\u001b[0m\u001b[0m\n",
      "\u001b[0;32m~/anaconda3/lib/python3.7/json/encoder.py\u001b[0m in \u001b[0;36miterencode\u001b[0;34m(self, o, _one_shot)\u001b[0m\n\u001b[1;32m    255\u001b[0m                 \u001b[0mself\u001b[0m\u001b[0;34m.\u001b[0m\u001b[0mkey_separator\u001b[0m\u001b[0;34m,\u001b[0m \u001b[0mself\u001b[0m\u001b[0;34m.\u001b[0m\u001b[0mitem_separator\u001b[0m\u001b[0;34m,\u001b[0m \u001b[0mself\u001b[0m\u001b[0;34m.\u001b[0m\u001b[0msort_keys\u001b[0m\u001b[0;34m,\u001b[0m\u001b[0;34m\u001b[0m\u001b[0;34m\u001b[0m\u001b[0m\n\u001b[1;32m    256\u001b[0m                 self.skipkeys, _one_shot)\n\u001b[0;32m--> 257\u001b[0;31m         \u001b[0;32mreturn\u001b[0m \u001b[0m_iterencode\u001b[0m\u001b[0;34m(\u001b[0m\u001b[0mo\u001b[0m\u001b[0;34m,\u001b[0m \u001b[0;36m0\u001b[0m\u001b[0;34m)\u001b[0m\u001b[0;34m\u001b[0m\u001b[0;34m\u001b[0m\u001b[0m\n\u001b[0m\u001b[1;32m    258\u001b[0m \u001b[0;34m\u001b[0m\u001b[0m\n\u001b[1;32m    259\u001b[0m def _make_iterencode(markers, _default, _encoder, _indent, _floatstr,\n",
      "\u001b[0;32m~/anaconda3/lib/python3.7/json/encoder.py\u001b[0m in \u001b[0;36mdefault\u001b[0;34m(self, o)\u001b[0m\n\u001b[1;32m    177\u001b[0m \u001b[0;34m\u001b[0m\u001b[0m\n\u001b[1;32m    178\u001b[0m         \"\"\"\n\u001b[0;32m--> 179\u001b[0;31m         raise TypeError(f'Object of type {o.__class__.__name__} '\n\u001b[0m\u001b[1;32m    180\u001b[0m                         f'is not JSON serializable')\n\u001b[1;32m    181\u001b[0m \u001b[0;34m\u001b[0m\u001b[0m\n",
      "\u001b[0;31mTypeError\u001b[0m: Object of type DataFrame is not JSON serializable"
     ]
    }
   ],
   "source": [
    "# new_dx=pd.DataFrame.from_dict(a)\n",
    "# new_dx.head()\n",
    "\n",
    "#a_file = open(\"data.pkl\", \"w+\")\n",
    "import json\n",
    "# as requested in comment\n",
    "#exDict = {\"exDict\": a}\n",
    "with open(\"data.txt\", \"w\") as file:\n",
    "    print(mydictionary, file=f)  # use `json.loads` to do the reverse"
   ]
  },
  {
   "cell_type": "code",
   "execution_count": null,
   "metadata": {},
   "outputs": [],
   "source": [
    "# df=pd.read_csv(\"./newdata/fischer1_p33_6_hf8_fc6x_4km.txt\",names=['channal','min','max','x','y'],sep='\\s+',engine='python',encoding='iso-8859-1',skiprows=1)\n",
    "# dx=df.drop(['x', 'y'], axis=1)\n",
    "# dx['min']= dx['min'].map(lambda x: x.lstrip('+-;').rstrip('aAbBcC;'))\n",
    "# dx['channal']= dx['channal'].map(lambda x: x.lstrip(';').rstrip(';'))\n",
    "# #dx=dx.drop(100);\n",
    "# dx['min']=pd.to_numeric(dx['min'])\n",
    "# dx['max']=pd.to_numeric(dx['max'])\n",
    "# dx.index.name=\"fischer1_p33_6_hf8_fc6x_4km\"\n",
    "# dx.to_excel(\"formatet.xlsx\");\n",
    "# dx.head(10)"
   ]
  },
  {
   "cell_type": "code",
   "execution_count": 5,
   "metadata": {},
   "outputs": [
    {
     "name": "stdout",
     "output_type": "stream",
     "text": [
      "hallo Wolrd!\n"
     ]
    }
   ],
   "source": [
    "print(\"hallo Wolrd!\")"
   ]
  },
  {
   "cell_type": "code",
   "execution_count": 1,
   "metadata": {},
   "outputs": [
    {
     "ename": "NameError",
     "evalue": "name 'content' is not defined",
     "output_type": "error",
     "traceback": [
      "\u001b[0;31m---------------------------------------------------------------------------\u001b[0m",
      "\u001b[0;31mNameError\u001b[0m                                 Traceback (most recent call last)",
      "\u001b[0;32m<ipython-input-1-1d5ea271f156>\u001b[0m in \u001b[0;36m<module>\u001b[0;34m\u001b[0m\n\u001b[0;32m----> 1\u001b[0;31m \u001b[0;32mfor\u001b[0m \u001b[0mitem\u001b[0m \u001b[0;32min\u001b[0m \u001b[0mcontent\u001b[0m\u001b[0;34m:\u001b[0m\u001b[0;34m\u001b[0m\u001b[0;34m\u001b[0m\u001b[0m\n\u001b[0m\u001b[1;32m      2\u001b[0m     \u001b[0;31m# delete the text files and the urls files to clean the library\u001b[0m\u001b[0;34m\u001b[0m\u001b[0;34m\u001b[0m\u001b[0;34m\u001b[0m\u001b[0m\n\u001b[1;32m      3\u001b[0m     \u001b[0mprint\u001b[0m\u001b[0;34m(\u001b[0m\u001b[0mitem\u001b[0m\u001b[0;34m)\u001b[0m\u001b[0;34m\u001b[0m\u001b[0;34m\u001b[0m\u001b[0m\n\u001b[1;32m      4\u001b[0m     \u001b[0;32mif\u001b[0m \u001b[0mitem\u001b[0m\u001b[0;34m.\u001b[0m\u001b[0mfind\u001b[0m\u001b[0;34m(\u001b[0m\u001b[0;34m\".txt\"\u001b[0m\u001b[0;34m)\u001b[0m \u001b[0;34m>\u001b[0m \u001b[0;36m0\u001b[0m\u001b[0;34m:\u001b[0m\u001b[0;34m\u001b[0m\u001b[0;34m\u001b[0m\u001b[0m\n\u001b[1;32m      5\u001b[0m         \u001b[0;31m# print(item)\u001b[0m\u001b[0;34m\u001b[0m\u001b[0;34m\u001b[0m\u001b[0;34m\u001b[0m\u001b[0m\n",
      "\u001b[0;31mNameError\u001b[0m: name 'content' is not defined"
     ]
    }
   ],
   "source": []
  },
  {
   "cell_type": "code",
   "execution_count": null,
   "metadata": {},
   "outputs": [],
   "source": []
  }
 ],
 "metadata": {
  "kernelspec": {
   "display_name": "Python 3",
   "language": "python",
   "name": "python3"
  },
  "language_info": {
   "codemirror_mode": {
    "name": "ipython",
    "version": 3
   },
   "file_extension": ".py",
   "mimetype": "text/x-python",
   "name": "python",
   "nbconvert_exporter": "python",
   "pygments_lexer": "ipython3",
   "version": "3.7.6"
  }
 },
 "nbformat": 4,
 "nbformat_minor": 4
}
