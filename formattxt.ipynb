{
 "cells": [
  {
   "cell_type": "code",
   "execution_count": 1,
   "metadata": {},
   "outputs": [],
   "source": [
    "import matplotlib.pyplot as plt\n",
    "import pandas as pd\n",
    "import seaborn as sb\n",
    "%matplotlib inline"
   ]
  },
  {
   "cell_type": "markdown",
   "metadata": {},
   "source": [
    "# Data files full clean"
   ]
  },
  {
   "cell_type": "code",
   "execution_count": 2,
   "metadata": {
    "tags": []
   },
   "outputs": [],
   "source": [
    "import os\n",
    "import re\n",
    "\n",
    "if not os.path.exists(\"./cleandata\"):\n",
    "    os.makedirs(\"./cleandata\")\n",
    "content = os.listdir(\"./newdata\")\n",
    "\n",
    "for item in content:\n",
    "    # delete the text files and the urls files to clean the library\n",
    "    #print(item)\n",
    "    if item.find(\".txt\") > 0:\n",
    "        # print(item)\n",
    "        with open(\"./newdata/{}\".format(item), \"r\", encoding=\"iso-8859-1\") as f:\n",
    "            lines = f.readlines()\n",
    "        # if (os.path.exists(\"./cleandata/{}\".format(item))):\n",
    "        with open(\"./cleandata/{}\".format(item), \"w+\") as f:\n",
    "\n",
    "            for line in lines:\n",
    "                if \"10 Messungen\" in line.strip(\"\\n\"):\n",
    "                    line = line[line.find(\"Ch\") :]\n",
    "                    # print(newline)\n",
    "                # if (line.strip(\"\\n\") != \"þStartfischer1 p33-6 hf8 fc6x 0.9km\")\n",
    "                if \"Ch\" in line.strip(\"\\n\") or \"V\" in line.strip(\"\\n\"):\n",
    "                    f.write(line.replace(\";\", \"\"))\n",
    "f.close()\n",
    "\n",
    "# print(content)"
   ]
  },
  {
   "source": [
    "# Extract the Data and convert it to Dataframes and Excel files"
   ],
   "cell_type": "markdown",
   "metadata": {}
  },
  {
   "cell_type": "code",
   "execution_count": 56,
   "metadata": {},
   "outputs": [],
   "source": [
    "import xlwt\n",
    "a={}\n",
    "lst={}\n",
    "lstdeltas={}\n",
    "lstverhalt={}\n",
    "content = os.listdir(\"./cleandata\")\n",
    "result=pd.DataFrame()\n",
    "verhaeltnis=pd.DataFrame()\n",
    "deltas=pd.DataFrame()\n",
    "for x in content:\n",
    "    if (x.find(\".txt\") > 0 and x != \".git\"):\n",
    "        #print(x)\n",
    "        df = pd.read_csv(\"./cleandata/{}\".format(x),names=[\"channal\", \"min\", \"max\", \"x\", \"y\"],sep=\"\\s+\",encoding=\"ISO-8859-1\")\n",
    "        dx = df.drop([\"x\", \"y\"], axis=1)\n",
    "        dx[\"min\"] = dx[\"min\"]  # .map(lambda x: x.lstrip(\"+-;\").rstrip(\"aAbBcC;\"))\n",
    "        dx[\"channal\"] = dx[\"channal\"]  # .map(lambda x: x.lstrip(\";\").rstrip(\";\"))\n",
    "        if 100 in dx.index:\n",
    "            dx = dx.drop(100)\n",
    "        dx[\"min\"] = pd.to_numeric(dx[\"min\"])\n",
    "        dx[\"max\"] = pd.to_numeric(dx[\"max\"])\n",
    "        dx[\"deltas\"] = dx[\"max\"] - dx[\"min\"]\n",
    "        #dx[\"name\"]=x.strip('.txt')\n",
    "        ########### Extract channals ######\n",
    "\n",
    "        ch0=dx[dx.channal == \"Ch0:\"]\n",
    "        ch1=dx[dx.channal == \"Ch1:\"]\n",
    "        ch2=dx[dx.channal == \"Ch2:\"]\n",
    "        ch3=dx[dx.channal == \"Ch3:\"]\n",
    "        ch4=dx[dx.channal == \"Ch4:\"]\n",
    "        ch5=dx[dx.channal == \"Ch5:\"]\n",
    "        ch6=dx[dx.channal == \"Ch6:\"]\n",
    "        ch7=dx[dx.channal == \"Ch7:\"]\n",
    "        ch8=dx[dx.channal == \"Ch8:\"]\n",
    "        #print(ch0.head())\n",
    "        ############ build the deltas #############\n",
    "        delta0= ch0[\"max\"] -  ch0[\"min\"]\n",
    "        lst['delta0']=delta0\n",
    "        delta1= ch1[\"max\"] -  ch1[\"min\"]\n",
    "        lst['delta1']=delta1\n",
    "        delta2= ch2[\"max\"] -  ch2[\"min\"]\n",
    "        lst['delta2']=delta2\n",
    "        delta3= ch3[\"max\"] -  ch3[\"min\"]\n",
    "        lst['delta3']=delta3\n",
    "        delta4= ch4[\"max\"] -  ch4[\"min\"]\n",
    "        lst['delta4']=delta4\n",
    "        delta5= ch5[\"max\"] -  ch5[\"min\"]\n",
    "        lst['delta5']=delta5\n",
    "        delta6= ch6[\"max\"] -  ch6[\"min\"]\n",
    "        lst['delta6']=delta6\n",
    "        delta7= ch7[\"max\"] -  ch7[\"min\"]\n",
    "        lst['delta7']=delta7\n",
    "        delta8= ch8[\"max\"] -  ch8[\"min\"]\n",
    "        lst['delta8']=delta8\n",
    "        #print(delta0.head())\n",
    "        ##################### format reset index\n",
    "\n",
    "        df_new = pd.DataFrame.from_dict(lst)\n",
    "        df_new=df_new.apply(lambda x: pd.Series(x.dropna().values))\n",
    "        #print(df_new.head(3))\n",
    "        #df_new.to_excel(\"dfnew.xlsx\")\n",
    "        dv=dx[dx.channal == \"V:\"]\n",
    "        ########## connect the name of Measurement\n",
    "        dv.index.name=x.strip('.txt')\n",
    "        dx.index.name = x.strip('.txt')\n",
    "        df_new.index.name=x.strip('.txt')\n",
    "\n",
    "        dx=dx.reset_index()\n",
    "        dv=dv.reset_index()\n",
    "        df_new=df_new.reset_index()\n",
    "\n",
    "        if not (dx.empty and deltas.empty):\n",
    "            a[x.strip('.txt')]=dx\n",
    "            lstdeltas[x.strip('.txt')]=df_new\n",
    "            \n",
    "        dv=dv.replace('V:', 'V:{}'.format(x.strip('.txt')))\n",
    "        rows=df_new.shape[0]\n",
    "        #print(rows)\n",
    "        for row in range(rows):\n",
    "            df_new[\"name\"]=x.strip('.txt')\n",
    "        #drop empty Dataframes\n",
    "        if not (dx.empty):\n",
    "            result=pd.concat([result,dx.append(pd.Series(name='V_Spacer',dtype='float'))],axis=1)\n",
    "            verhaeltnis=pd.concat([verhaeltnis,dv],axis=1)\n",
    "            new_df=result.append(verhaeltnis)\n",
    "            deltas=pd.concat([deltas,df_new],axis=1)\n",
    "            lstverhalt[x.strip('.txt')]=dv\n",
    "\n",
    "        rows= deltas.shape[0]\n",
    "\n",
    "\n",
    "#new_df=pd.concat([result,verhaeltnis])\n",
    "#print(result.head())\n",
    "#result.to_excel(\"result.xlsx\")\n",
    "verhaeltnis=verhaeltnis.drop([\"max\",\"deltas\"], axis=1)\n",
    "verhaeltnis=verhaeltnis.rename(columns={\"min\": \"V\"})\n",
    "#verhaeltnis.head()\n",
    "#verhaeltnis.to_excel(\"verhaeltnis.xlsx\")\n",
    "# verhaeltnis.to_excel(\"FullData.xlsx\",sheet_name='verhältnis')\n",
    "#deltas.to_excel(\"deltas.xlsx\")\n",
    "# deltas.to_excel(\"FullData.xlsx\",sheet_name='deltas')\n",
    "# new_df.to_excel(\"FullData.xls\",sheet_name='fullData')\n",
    "# with pd.ExcelWriter('FullDataAll.xlsx') as writer:\n",
    "#     result.to_excel(writer, sheet_name='cleanValues')  \n",
    "#     new_df.to_excel(writer, sheet_name='cleanWithVerhältnis')\n",
    "#     deltas.to_excel(writer, sheet_name='deltas')\n",
    "#     verhaeltnis.to_excel(writer, sheet_name='verhaeltnis')\n",
    "#     new_df[\"spacer1\"]=\" \"\n",
    "#     new_df[\"spacer2\"]=\" \"\n",
    "#     merged_df=pd.merge(new_df,deltas.reset_index(),how='outer')\n",
    "#     merged_df.to_excel(writer, sheet_name='FullDataAll')\n"
   ]
  },
  {
   "cell_type": "code",
   "execution_count": 10,
   "metadata": {},
   "outputs": [
    {
     "output_type": "execute_result",
     "data": {
      "text/plain": [
       "   fischer1_p33_6_ch7_4_steel_brush                             channal  \\\n",
       "5                              59.0  V:fischer1_p33_6_ch7_4_steel_brush   \n",
       "6                              69.0  V:fischer1_p33_6_ch7_4_steel_brush   \n",
       "7                              79.0  V:fischer1_p33_6_ch7_4_steel_brush   \n",
       "8                              89.0  V:fischer1_p33_6_ch7_4_steel_brush   \n",
       "9                              99.0  V:fischer1_p33_6_ch7_4_steel_brush   \n",
       "\n",
       "      min max  deltas  fischer1_p33_6_hf8_fc6x_0_9km  \\\n",
       "5  1588.0 NaN     NaN                           59.0   \n",
       "6  1406.0 NaN     NaN                           69.0   \n",
       "7  1226.0 NaN     NaN                           79.0   \n",
       "8  1320.0 NaN     NaN                           89.0   \n",
       "9  1598.0 NaN     NaN                           99.0   \n",
       "\n",
       "                           channal     min max  deltas  ...     min max  \\\n",
       "5  V:fischer1_p33_6_hf8_fc6x_0_9km  1483.0 NaN     NaN  ...  1058.0 NaN   \n",
       "6  V:fischer1_p33_6_hf8_fc6x_0_9km  1734.0 NaN     NaN  ...   393.0 NaN   \n",
       "7  V:fischer1_p33_6_hf8_fc6x_0_9km  1547.0 NaN     NaN  ...   550.0 NaN   \n",
       "8  V:fischer1_p33_6_hf8_fc6x_0_9km  1735.0 NaN     NaN  ...   865.0 NaN   \n",
       "9  V:fischer1_p33_6_hf8_fc6x_0_9km  1549.0 NaN     NaN  ...     NaN NaN   \n",
       "\n",
       "   deltas  madshus_base7_ts_blue_poin                       channal     min  \\\n",
       "5     NaN                        59.0  V:madshus_base7_ts_blue_poin  1029.0   \n",
       "6     NaN                        69.0  V:madshus_base7_ts_blue_poin  1043.0   \n",
       "7     NaN                        79.0  V:madshus_base7_ts_blue_poin  1037.0   \n",
       "8     NaN                        89.0  V:madshus_base7_ts_blue_poin  1064.0   \n",
       "9     NaN                        99.0  V:madshus_base7_ts_blue_poin  1004.0   \n",
       "\n",
       "  max  deltas  spacer1  spacer2  \n",
       "5 NaN     NaN                    \n",
       "6 NaN     NaN                    \n",
       "7 NaN     NaN                    \n",
       "8 NaN     NaN                    \n",
       "9 NaN     NaN                    \n",
       "\n",
       "[5 rows x 92 columns]"
      ],
      "text/html": "<div>\n<style scoped>\n    .dataframe tbody tr th:only-of-type {\n        vertical-align: middle;\n    }\n\n    .dataframe tbody tr th {\n        vertical-align: top;\n    }\n\n    .dataframe thead th {\n        text-align: right;\n    }\n</style>\n<table border=\"1\" class=\"dataframe\">\n  <thead>\n    <tr style=\"text-align: right;\">\n      <th></th>\n      <th>fischer1_p33_6_ch7_4_steel_brush</th>\n      <th>channal</th>\n      <th>min</th>\n      <th>max</th>\n      <th>deltas</th>\n      <th>fischer1_p33_6_hf8_fc6x_0_9km</th>\n      <th>channal</th>\n      <th>min</th>\n      <th>max</th>\n      <th>deltas</th>\n      <th>...</th>\n      <th>min</th>\n      <th>max</th>\n      <th>deltas</th>\n      <th>madshus_base7_ts_blue_poin</th>\n      <th>channal</th>\n      <th>min</th>\n      <th>max</th>\n      <th>deltas</th>\n      <th>spacer1</th>\n      <th>spacer2</th>\n    </tr>\n  </thead>\n  <tbody>\n    <tr>\n      <th>5</th>\n      <td>59.0</td>\n      <td>V:fischer1_p33_6_ch7_4_steel_brush</td>\n      <td>1588.0</td>\n      <td>NaN</td>\n      <td>NaN</td>\n      <td>59.0</td>\n      <td>V:fischer1_p33_6_hf8_fc6x_0_9km</td>\n      <td>1483.0</td>\n      <td>NaN</td>\n      <td>NaN</td>\n      <td>...</td>\n      <td>1058.0</td>\n      <td>NaN</td>\n      <td>NaN</td>\n      <td>59.0</td>\n      <td>V:madshus_base7_ts_blue_poin</td>\n      <td>1029.0</td>\n      <td>NaN</td>\n      <td>NaN</td>\n      <td></td>\n      <td></td>\n    </tr>\n    <tr>\n      <th>6</th>\n      <td>69.0</td>\n      <td>V:fischer1_p33_6_ch7_4_steel_brush</td>\n      <td>1406.0</td>\n      <td>NaN</td>\n      <td>NaN</td>\n      <td>69.0</td>\n      <td>V:fischer1_p33_6_hf8_fc6x_0_9km</td>\n      <td>1734.0</td>\n      <td>NaN</td>\n      <td>NaN</td>\n      <td>...</td>\n      <td>393.0</td>\n      <td>NaN</td>\n      <td>NaN</td>\n      <td>69.0</td>\n      <td>V:madshus_base7_ts_blue_poin</td>\n      <td>1043.0</td>\n      <td>NaN</td>\n      <td>NaN</td>\n      <td></td>\n      <td></td>\n    </tr>\n    <tr>\n      <th>7</th>\n      <td>79.0</td>\n      <td>V:fischer1_p33_6_ch7_4_steel_brush</td>\n      <td>1226.0</td>\n      <td>NaN</td>\n      <td>NaN</td>\n      <td>79.0</td>\n      <td>V:fischer1_p33_6_hf8_fc6x_0_9km</td>\n      <td>1547.0</td>\n      <td>NaN</td>\n      <td>NaN</td>\n      <td>...</td>\n      <td>550.0</td>\n      <td>NaN</td>\n      <td>NaN</td>\n      <td>79.0</td>\n      <td>V:madshus_base7_ts_blue_poin</td>\n      <td>1037.0</td>\n      <td>NaN</td>\n      <td>NaN</td>\n      <td></td>\n      <td></td>\n    </tr>\n    <tr>\n      <th>8</th>\n      <td>89.0</td>\n      <td>V:fischer1_p33_6_ch7_4_steel_brush</td>\n      <td>1320.0</td>\n      <td>NaN</td>\n      <td>NaN</td>\n      <td>89.0</td>\n      <td>V:fischer1_p33_6_hf8_fc6x_0_9km</td>\n      <td>1735.0</td>\n      <td>NaN</td>\n      <td>NaN</td>\n      <td>...</td>\n      <td>865.0</td>\n      <td>NaN</td>\n      <td>NaN</td>\n      <td>89.0</td>\n      <td>V:madshus_base7_ts_blue_poin</td>\n      <td>1064.0</td>\n      <td>NaN</td>\n      <td>NaN</td>\n      <td></td>\n      <td></td>\n    </tr>\n    <tr>\n      <th>9</th>\n      <td>99.0</td>\n      <td>V:fischer1_p33_6_ch7_4_steel_brush</td>\n      <td>1598.0</td>\n      <td>NaN</td>\n      <td>NaN</td>\n      <td>99.0</td>\n      <td>V:fischer1_p33_6_hf8_fc6x_0_9km</td>\n      <td>1549.0</td>\n      <td>NaN</td>\n      <td>NaN</td>\n      <td>...</td>\n      <td>NaN</td>\n      <td>NaN</td>\n      <td>NaN</td>\n      <td>99.0</td>\n      <td>V:madshus_base7_ts_blue_poin</td>\n      <td>1004.0</td>\n      <td>NaN</td>\n      <td>NaN</td>\n      <td></td>\n      <td></td>\n    </tr>\n  </tbody>\n</table>\n<p>5 rows × 92 columns</p>\n</div>"
     },
     "metadata": {},
     "execution_count": 10
    }
   ],
   "source": [
    "#print(new_df.head())\n",
    "#print(deltas.head())\n",
    "new_df[\"spacer1\"]=\" \"\n",
    "new_df[\"spacer2\"]=\" \"\n",
    "merged_df=pd.merge(new_df,deltas.reset_index(),how='outer')\n",
    "merged_df.to_excel(\"merged.xlsx\")\n",
    "new_df.tail()"
   ]
  },
  {
   "cell_type": "code",
   "execution_count": 29,
   "metadata": {},
   "outputs": [
    {
     "output_type": "stream",
     "name": "stdout",
     "text": [
      "['delta0', 'delta1', 'delta2', 'delta3', 'delta4', 'delta5', 'delta6', 'delta7', 'delta8']\n"
     ]
    }
   ],
   "source": [
    "dleta_names_list=list();\n",
    "for x in lst:\n",
    "    #print(x)\n",
    "    dleta_names_list.append(x)\n",
    "print(dleta_names_list)"
   ]
  },
  {
   "cell_type": "code",
   "execution_count": 52,
   "metadata": {},
   "outputs": [],
   "source": [
    "if \"delta5\" in dleta_names_list:\n",
    "    dleta_names_list.remove('delta5')\n",
    "for x in lstdeltas:\n",
    "    #print(lstdeltas[x].head())\n",
    "    #fig, ax = plt.subplots()\n",
    "    #ax.violinplot(lstdeltas[x][dleta_names_list].to_numpy(),bw_method=0.2);\n",
    "    #sb.violinplot(data=lstdeltas[x][dleta_names_list[0:3]], inner=\"quartile\", bw=0.2); \n",
    "    #lstdeltas[x][dleta_names_list].plot.box()\n",
    "    # sb.violinplot(data=lstdeltas[x][dleta_names_list[0]], inner=None);\n",
    "    # sb.swarmplot(data=lstdeltas[x][dleta_names_list[0]], size=2, color=\"k\", alpha=0.5);\n",
    "    #sb.boxplot(data=lstdeltas[x]);\n",
    "    break;\n",
    "    \n",
    "\n",
    "\n",
    "\n",
    "\n",
    "\n",
    "\n",
    "\n",
    "\n",
    "\n",
    "\n",
    "\n",
    "\n",
    "\n",
    "\n",
    "\n",
    "\n"
   ]
  },
  {
   "cell_type": "code",
   "execution_count": null,
   "metadata": {},
   "outputs": [],
   "source": []
  },
  {
   "cell_type": "code",
   "execution_count": 67,
   "metadata": {},
   "outputs": [
    {
     "output_type": "stream",
     "name": "stdout",
     "text": [
      "['fischer1_p33_6_ch7_4_steel_brush', 'fischer1_p33_6_hf8_fc6x_0_9km', 'fischer1_p33_6_hf8_fc6x_4km', 'fischer2_p33_6_ch7_4_steel_brush', 'fischer2_p33_6_hf8_fc6', 'fischer2_p33_6_hf8_fc6x_0_9km', 'fischer2_p33_6_hf8_fc6x_4km', 'fischer_bb1_TS_blue ch8 12km', 'fischer_bb1_TS_blue ch8', 'fischer_bb1_TS_blue remeasure 2', 'fischer_bb1_TS_blue remeasure', 'fischer_bb2_TS_blue LF8 12km', 'fischer_bb2_TS_blue LF8', 'fischer_bb2_TS_blue remeasure', 'fischer_p33_6_hf8_fc6', 'madshus_base7_ts_blue', 'madshus_base7_ts_blue_ clockwise 45 turn', 'madshus_base7_ts_blue_poin']\n"
     ]
    }
   ],
   "source": [
    "data_verhalt=pd.DataFrame();\n",
    "delta_verhalt_name=list();\n",
    "for x in lstverhalt:\n",
    "    #print(lstverhalt[x]['min'])\n",
    "    delta_verhalt_name.append(x)\n",
    "    data_verhalt[x]=lstverhalt[x]['min'];\n",
    "    # fig, ax = plt.subplots()\n",
    "    # ax.violinplot(lstverhalt[x]['min'].to_numpy(),bw_method=0.2);\n",
    "    #sb.violinplot(data=lstverhalt[x][dleta_names_list[0:3]], inner=\"quartile\", bw=0.2); \n",
    "    #lstverhalt[x][dleta_names_list].plot.box()\n",
    "    # sb.violinplot(data=lstverhalt[x][dleta_names_list[0]], inner=None);\n",
    "    # sb.swarmplot(data=lstverhalt[x][dleta_names_list[0]], size=2, color=\"k\", alpha=0.5);\n",
    "print(delta_verhalt_name)\n",
    "\n",
    "\n"
   ]
  },
  {
   "cell_type": "code",
   "execution_count": 54,
   "metadata": {},
   "outputs": [
    {
     "output_type": "stream",
     "name": "stdout",
     "text": [
      "fischer1_p33_6_ch7_4_steel_brush\nchannal\nV\nfischer1_p33_6_hf8_fc6x_0_9km\nchannal\nV\nfischer1_p33_6_hf8_fc6x_4km\nchannal\nV\nfischer2_p33_6_ch7_4_steel_brush\nchannal\nV\nfischer2_p33_6_hf8_fc6\nchannal\nV\nfischer2_p33_6_hf8_fc6x_0_9km\nchannal\nV\nfischer2_p33_6_hf8_fc6x_4km\nchannal\nV\nfischer_bb1_TS_blue ch8 12km\nchannal\nV\nfischer_bb1_TS_blue ch8\nchannal\nV\nfischer_bb1_TS_blue remeasure 2\nchannal\nV\nfischer_bb1_TS_blue remeasure\nchannal\nV\nfischer_bb2_TS_blue LF8 12km\nchannal\nV\nfischer_bb2_TS_blue LF8\nchannal\nV\nfischer_bb2_TS_blue remeasure\nchannal\nV\nfischer_p33_6_hf8_fc6\nchannal\nV\nmadshus_base7_ts_blue\nchannal\nV\nmadshus_base7_ts_blue_ clockwise 45 turn\nchannal\nV\nmadshus_base7_ts_blue_poin\nchannal\nV\n"
     ]
    }
   ],
   "source": [
    "for x in verhaeltnis:\n",
    "    print(x)"
   ]
  },
  {
   "cell_type": "code",
   "execution_count": null,
   "metadata": {},
   "outputs": [],
   "source": []
  }
 ],
 "metadata": {
  "kernelspec": {
   "name": "python3",
   "display_name": "Python 3.8.6 64-bit",
   "metadata": {
    "interpreter": {
     "hash": "1baa965d5efe3ac65b79dfc60c0d706280b1da80fedb7760faf2759126c4f253"
    }
   }
  },
  "language_info": {
   "codemirror_mode": {
    "name": "ipython",
    "version": 3
   },
   "file_extension": ".py",
   "mimetype": "text/x-python",
   "name": "python",
   "nbconvert_exporter": "python",
   "pygments_lexer": "ipython3",
   "version": "3.8.6-final"
  }
 },
 "nbformat": 4,
 "nbformat_minor": 4
}