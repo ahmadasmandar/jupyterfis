{
 "cells": [
  {
   "cell_type": "code",
   "execution_count": 90,
   "metadata": {},
   "outputs": [],
   "source": [
    "import matplotlib.pyplot as plt\n",
    "import pandas as pd\n",
    "import seaborn as sb"
   ]
  },
  {
   "cell_type": "markdown",
   "metadata": {},
   "source": [
    "# Data files full clean"
   ]
  },
  {
   "cell_type": "code",
   "execution_count": 91,
   "metadata": {
    "tags": []
   },
   "outputs": [
    {
     "output_type": "stream",
     "name": "stdout",
     "text": [
      "fischer1_p33_6_hf8_fc6x_0_9km.txt\nfischer1_p33_6_hf8_fc6x_4km.txt\nfischer2_p33_6_hf8_fc6x.txt\nfischer2_p33_6_hf8_fc6x_0_9km.txt\nfischer2_p33_6_hf8_fc6x_4km.txt\nfischer_p33_6_hf8_fc6x.txt\nmadshus_base7_ts_blue.txt\nmadshus_base7_ts_blue_ clockwise 45 turn.txt\nmadshus_base7_ts_blue_point.txt\n"
     ]
    }
   ],
   "source": [
    "import os\n",
    "import re\n",
    "\n",
    "if not os.path.exists(\"./cleandata\"):\n",
    "    os.makedirs(\"./cleandata\")\n",
    "content = os.listdir(\"./newdata\")\n",
    "\n",
    "for item in content:\n",
    "    # delete the text files and the urls files to clean the library\n",
    "    print(item)\n",
    "    if item.find(\".txt\") > 0:\n",
    "        # print(item)\n",
    "        with open(\"./newdata/{}\".format(item), \"r\", encoding=\"iso-8859-1\") as f:\n",
    "            lines = f.readlines()\n",
    "        # if (os.path.exists(\"./cleandata/{}\".format(item))):\n",
    "        with open(\"./cleandata/{}\".format(item), \"w+\") as f:\n",
    "\n",
    "            for line in lines:\n",
    "                if \"10 Messungen\" in line.strip(\"\\n\"):\n",
    "                    line = line[line.find(\"Ch\") :]\n",
    "                    # print(newline)\n",
    "                # if (line.strip(\"\\n\") != \"þStartfischer1 p33-6 hf8 fc6x 0.9km\")\n",
    "                if \"Ch\" in line.strip(\"\\n\") or \"V\" in line.strip(\"\\n\"):\n",
    "                    f.write(line.replace(\";\", \"\"))\n",
    "f.close()\n",
    "\n",
    "# print(content)"
   ]
  },
  {
   "cell_type": "code",
   "execution_count": 92,
   "metadata": {},
   "outputs": [],
   "source": [
    "a={}\n",
    "content = os.listdir(\"./cleandata\")\n",
    "result=pd.DataFrame();\n",
    "verhaeltnis=pd.DataFrame();\n",
    "for x in content:\n",
    "    if (x.find(\".txt\") > 0 and x != \".git\"):\n",
    "        #print(x)\n",
    "        df = pd.read_csv(\"./cleandata/{}\".format(x),names=[\"channal\", \"min\", \"max\", \"x\", \"y\"],sep=\"\\s+\",encoding=\"cp1258\")\n",
    "        dx = df.drop([\"x\", \"y\"], axis=1)\n",
    "        dx[\"min\"] = dx[\"min\"]  # .map(lambda x: x.lstrip(\"+-;\").rstrip(\"aAbBcC;\"))\n",
    "        dx[\"channal\"] = dx[\"channal\"]  # .map(lambda x: x.lstrip(\";\").rstrip(\";\"))\n",
    "        if 100 in dx.index:\n",
    "            dx = dx.drop(100)\n",
    "        dx[\"min\"] = pd.to_numeric(dx[\"min\"])\n",
    "        dx[\"max\"] = pd.to_numeric(dx[\"max\"])\n",
    "        dx[\"deltas\"] = dx[\"max\"] - dx[\"min\"]\n",
    "        dv=dx[dx.channal == \"V:\"]\n",
    "        dv.index.name=x.strip('.txt')\n",
    "        dx.index.name = x.strip('.txt')\n",
    "        dx=dx.reset_index()\n",
    "        #dv=dv.drop([\"min\", \"max\",\"deltas\"], axis=1)#.reset_index()\n",
    "        dv=dv.reset_index()\n",
    "        if not (dx.empty):\n",
    "            a[x]=dv\n",
    "        dv=dv.replace('V:', 'V:{}'.format(x.strip('.txt')))\n",
    "        #drop empty Dataframes\n",
    "        #print(dv.head())\n",
    "        #dx.append(pd.Series(name='NameOfNewRow'))\n",
    "        if not (dx.empty):\n",
    "            result=pd.concat([result,dx.append(pd.Series(name='Verh..'))],axis=1)\n",
    "            verhaeltnis=pd.concat([verhaeltnis,dv],axis=1)\n",
    "            new_df=result.append(verhaeltnis)\n",
    "\n",
    "#new_df=pd.concat([result,verhaeltnis])\n",
    "#print(result.head())\n",
    "result.to_excel(\"result.xlsx\")\n",
    "verhaeltnis=verhaeltnis.drop([\"max\",\"deltas\"], axis=1)\n",
    "verhaeltnis=verhaeltnis.rename(columns={\"min\": \"V\"})\n",
    "verhaeltnis.head()\n",
    "verhaeltnis.to_excel(\"verhaeltnis.xlsx\")\n",
    "new_df.to_excel(\"FullData.xlsx\")"
   ]
  },
  {
   "cell_type": "code",
   "execution_count": 89,
   "metadata": {},
   "outputs": [
    {
     "output_type": "execute_result",
     "data": {
      "text/plain": [
       "dict_keys(['fischer1_p33_6_hf8_fc6x_0_9km.txt', 'fischer1_p33_6_hf8_fc6x_4km.txt', 'fischer2_p33_6_hf8_fc6x.txt', 'fischer2_p33_6_hf8_fc6x_0_9km.txt', 'fischer2_p33_6_hf8_fc6x_4km.txt', 'fischer_p33_6_hf8_fc6x.txt', 'madshus_base7_ts_blue.txt', 'madshus_base7_ts_blue_ clockwise 45 turn.txt', 'madshus_base7_ts_blue_point.txt'])"
      ]
     },
     "metadata": {},
     "execution_count": 89
    }
   ],
   "source": [
    "a.keys()"
   ]
  },
  {
   "cell_type": "code",
   "execution_count": null,
   "metadata": {},
   "outputs": [],
   "source": []
  }
 ],
 "metadata": {
  "kernelspec": {
   "name": "python3",
   "display_name": "Python 3.8.6 64-bit",
   "metadata": {
    "interpreter": {
     "hash": "1baa965d5efe3ac65b79dfc60c0d706280b1da80fedb7760faf2759126c4f253"
    }
   }
  },
  "language_info": {
   "codemirror_mode": {
    "name": "ipython",
    "version": 3
   },
   "file_extension": ".py",
   "mimetype": "text/x-python",
   "name": "python",
   "nbconvert_exporter": "python",
   "pygments_lexer": "ipython3",
   "version": "3.8.6-final"
  }
 },
 "nbformat": 4,
 "nbformat_minor": 4
}