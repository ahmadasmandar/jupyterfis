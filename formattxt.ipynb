{
 "cells": [
  {
   "cell_type": "code",
   "execution_count": 23,
   "metadata": {},
   "outputs": [],
   "source": [
    "import matplotlib.pyplot as plt\n",
    "import pandas as pd\n",
    "import seaborn as sb\n",
    "%matplotlib inline"
   ]
  },
  {
   "cell_type": "markdown",
   "metadata": {},
   "source": [
    "# Data files full clean"
   ]
  },
  {
   "cell_type": "code",
   "execution_count": 24,
   "metadata": {
    "tags": []
   },
   "outputs": [
    {
     "output_type": "stream",
     "name": "stdout",
     "text": [
      "fischer1_p33_6_hf8_fc6x_0_9km.txt\nfischer1_p33_6_hf8_fc6x_4km.txt\nfischer2_p33_6_hf8_fc6x.txt\nfischer2_p33_6_hf8_fc6x_0_9km.txt\nfischer2_p33_6_hf8_fc6x_4km.txt\nfischer_p33_6_hf8_fc6x.txt\nmadshus_base7_ts_blue.txt\nmadshus_base7_ts_blue_ clockwise 45 turn.txt\nmadshus_base7_ts_blue_point.txt\n"
     ]
    }
   ],
   "source": [
    "import os\n",
    "import re\n",
    "\n",
    "if not os.path.exists(\"./cleandata\"):\n",
    "    os.makedirs(\"./cleandata\")\n",
    "content = os.listdir(\"./newdata\")\n",
    "\n",
    "for item in content:\n",
    "    # delete the text files and the urls files to clean the library\n",
    "    print(item)\n",
    "    if item.find(\".txt\") > 0:\n",
    "        # print(item)\n",
    "        with open(\"./newdata/{}\".format(item), \"r\", encoding=\"iso-8859-1\") as f:\n",
    "            lines = f.readlines()\n",
    "        # if (os.path.exists(\"./cleandata/{}\".format(item))):\n",
    "        with open(\"./cleandata/{}\".format(item), \"w+\") as f:\n",
    "\n",
    "            for line in lines:\n",
    "                if \"10 Messungen\" in line.strip(\"\\n\"):\n",
    "                    line = line[line.find(\"Ch\") :]\n",
    "                    # print(newline)\n",
    "                # if (line.strip(\"\\n\") != \"þStartfischer1 p33-6 hf8 fc6x 0.9km\")\n",
    "                if \"Ch\" in line.strip(\"\\n\") or \"V\" in line.strip(\"\\n\"):\n",
    "                    f.write(line.replace(\";\", \"\"))\n",
    "f.close()\n",
    "\n",
    "# print(content)"
   ]
  },
  {
   "cell_type": "code",
   "execution_count": 90,
   "metadata": {},
   "outputs": [],
   "source": [
    "a={}\n",
    "lst={}\n",
    "content = os.listdir(\"./cleandata\")\n",
    "result=pd.DataFrame()\n",
    "verhaeltnis=pd.DataFrame()\n",
    "deltas=pd.DataFrame()\n",
    "for x in content:\n",
    "    if (x.find(\".txt\") > 0 and x != \".git\"):\n",
    "        #print(x)\n",
    "        df = pd.read_csv(\"./cleandata/{}\".format(x),names=[\"channal\", \"min\", \"max\", \"x\", \"y\"],sep=\"\\s+\",encoding=\"ISO-8859-1\")\n",
    "        dx = df.drop([\"x\", \"y\"], axis=1)\n",
    "        dx[\"min\"] = dx[\"min\"]  # .map(lambda x: x.lstrip(\"+-;\").rstrip(\"aAbBcC;\"))\n",
    "        dx[\"channal\"] = dx[\"channal\"]  # .map(lambda x: x.lstrip(\";\").rstrip(\";\"))\n",
    "        if 100 in dx.index:\n",
    "            dx = dx.drop(100)\n",
    "        dx[\"min\"] = pd.to_numeric(dx[\"min\"])\n",
    "        dx[\"max\"] = pd.to_numeric(dx[\"max\"])\n",
    "        dx[\"deltas\"] = dx[\"max\"] - dx[\"min\"]\n",
    "        ########### Extract channals ######\n",
    "\n",
    "        ch0=dx[dx.channal == \"Ch0:\"]\n",
    "        ch1=dx[dx.channal == \"Ch1:\"]\n",
    "        ch2=dx[dx.channal == \"Ch2:\"]\n",
    "        ch3=dx[dx.channal == \"Ch3:\"]\n",
    "        ch4=dx[dx.channal == \"Ch4:\"]\n",
    "        ch5=dx[dx.channal == \"Ch5:\"]\n",
    "        ch6=dx[dx.channal == \"Ch6:\"]\n",
    "        ch7=dx[dx.channal == \"Ch7:\"]\n",
    "        ch8=dx[dx.channal == \"Ch8:\"]\n",
    "        #print(ch0.head())\n",
    "        ############ build the deltas #############\n",
    "        delta0= ch0[\"max\"] -  ch0[\"min\"]\n",
    "        lst['delta0']=delta0\n",
    "        delta1= ch1[\"max\"] -  ch1[\"min\"]\n",
    "        lst['delta1']=delta1\n",
    "        delta2= ch2[\"max\"] -  ch2[\"min\"]\n",
    "        lst['delta2']=delta2\n",
    "        delta3= ch3[\"max\"] -  ch3[\"min\"]\n",
    "        lst['delta3']=delta3\n",
    "        delta4= ch4[\"max\"] -  ch4[\"min\"]\n",
    "        lst['delta4']=delta4\n",
    "        delta5= ch5[\"max\"] -  ch5[\"min\"]\n",
    "        lst['delta5']=delta5\n",
    "        delta6= ch6[\"max\"] -  ch6[\"min\"]\n",
    "        lst['delta6']=delta6\n",
    "        delta7= ch7[\"max\"] -  ch7[\"min\"]\n",
    "        lst['delta7']=delta7\n",
    "        delta8= ch8[\"max\"] -  ch8[\"min\"]\n",
    "        lst['delta8']=delta8\n",
    "        #print(delta0.head())\n",
    "        ##################### format reset index\n",
    "\n",
    "        df_new = pd.DataFrame.from_dict(lst)\n",
    "        df_new=df_new.apply(lambda x: pd.Series(x.dropna().values))\n",
    "        #print(df_new.head(3))\n",
    "        df_new.to_excel(\"dfnew.xlsx\")\n",
    "        dv=dx[dx.channal == \"V:\"]\n",
    "\n",
    "        ########## connect the name of Measurement\n",
    "        dv.index.name=x.strip('.txt')\n",
    "        dx.index.name = x.strip('.txt')\n",
    "        df_new.index.name=x.strip('.txt')\n",
    "\n",
    "        dx=dx.reset_index()\n",
    "        dv=dv.reset_index()\n",
    "        df_new=df_new.reset_index()\n",
    "\n",
    "        if not (dx.empty):\n",
    "            a[x.strip('.txt')]=dx\n",
    "        dv=dv.replace('V:', 'V:{}'.format(x.strip('.txt')))\n",
    "        #drop empty Dataframes\n",
    "        if not (dx.empty):\n",
    "            result=pd.concat([result,dx.append(pd.Series(name='Verh..'))],axis=1)\n",
    "            verhaeltnis=pd.concat([verhaeltnis,dv],axis=1)\n",
    "            new_df=result.append(verhaeltnis)\n",
    "            deltas=pd.concat([deltas,df_new],axis=1)\n",
    "\n",
    "#new_df=pd.concat([result,verhaeltnis])\n",
    "#print(result.head())\n",
    "result.to_excel(\"result.xlsx\")\n",
    "verhaeltnis=verhaeltnis.drop([\"max\",\"deltas\"], axis=1)\n",
    "verhaeltnis=verhaeltnis.rename(columns={\"min\": \"V\"})\n",
    "verhaeltnis.head()\n",
    "verhaeltnis.to_excel(\"verhaeltnis.xlsx\")\n",
    "new_df.to_excel(\"FullData.xlsx\")\n",
    "deltas.to_excel(\"deltas.xlsx\")"
   ]
  },
  {
   "cell_type": "code",
   "execution_count": null,
   "metadata": {},
   "outputs": [],
   "source": []
  }
 ],
 "metadata": {
  "kernelspec": {
   "name": "python3",
   "display_name": "Python 3.8.6 64-bit",
   "metadata": {
    "interpreter": {
     "hash": "1baa965d5efe3ac65b79dfc60c0d706280b1da80fedb7760faf2759126c4f253"
    }
   }
  },
  "language_info": {
   "codemirror_mode": {
    "name": "ipython",
    "version": 3
   },
   "file_extension": ".py",
   "mimetype": "text/x-python",
   "name": "python",
   "nbconvert_exporter": "python",
   "pygments_lexer": "ipython3",
   "version": "3.8.6-final"
  }
 },
 "nbformat": 4,
 "nbformat_minor": 4
}