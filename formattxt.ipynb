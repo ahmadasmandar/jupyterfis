{
 "cells": [
  {
   "cell_type": "code",
   "execution_count": 11,
   "metadata": {},
   "outputs": [],
   "source": [
    "import matplotlib.pyplot as plt\n",
    "import pandas as pd\n",
    "import seaborn as sb"
   ]
  },
  {
   "cell_type": "markdown",
   "metadata": {},
   "source": [
    "# Data files full clean"
   ]
  },
  {
   "cell_type": "code",
   "execution_count": 12,
   "metadata": {
    "tags": []
   },
   "outputs": [
    {
     "name": "stdout",
     "output_type": "stream",
     "text": [
      "fischer2_p33_6_hf8_fc6x_4km.txt\n",
      "madshus_base7_ts_blue_ clockwise 45 turn.txt\n",
      "fischer1_p33_6_hf8_fc6x_4km.txt\n",
      "madshus_base7_ts_blue_point.txt\n",
      "madshus_base7_ts_blue.txt\n",
      "fischer_p33_6_hf8_fc6x.txt\n",
      "fischer2_p33_6_hf8_fc6x.txt\n",
      "fischer1_p33_6_hf8_fc6x_0_9km.txt\n",
      "fischer2_p33_6_hf8_fc6x_0_9km.txt\n"
     ]
    }
   ],
   "source": [
    "import os\n",
    "import re\n",
    "\n",
    "if not os.path.exists(\"./cleandata\"):\n",
    "    os.makedirs(\"./cleandata\")\n",
    "content = os.listdir(\"./newdata\")\n",
    "\n",
    "for item in content:\n",
    "    # delete the text files and the urls files to clean the library\n",
    "    print(item)\n",
    "    if item.find(\".txt\") > 0:\n",
    "        # print(item)\n",
    "        with open(\"./newdata/{}\".format(item), \"r\", encoding=\"iso-8859-1\") as f:\n",
    "            lines = f.readlines()\n",
    "        # if (os.path.exists(\"./cleandata/{}\".format(item))):\n",
    "        with open(\"./cleandata/{}\".format(item), \"w+\") as f:\n",
    "\n",
    "            for line in lines:\n",
    "                if \"10 Messungen\" in line.strip(\"\\n\"):\n",
    "                    line = line[line.find(\"Ch\") :]\n",
    "                    # print(newline)\n",
    "                # if (line.strip(\"\\n\") != \"þStartfischer1 p33-6 hf8 fc6x 0.9km\")\n",
    "                if \"Ch\" in line.strip(\"\\n\") or \"V\" in line.strip(\"\\n\"):\n",
    "                    f.write(line.replace(\";\", \"\"))\n",
    "f.close()\n",
    "\n",
    "# print(content)"
   ]
  },
  {
   "cell_type": "code",
   "execution_count": 20,
   "metadata": {},
   "outputs": [
    {
     "name": "stdout",
     "output_type": "stream",
     "text": [
      "fischer2_p33_6_hf8_fc6x_4km.txt\n",
      "           channal      min   max    x    y\n",
      "fischer2     p33-6      hf8  fcx6  4.0   km\n",
      "Ch0:;     4433955;  6042328   NaN  NaN  NaN\n",
      "Ch1:;     4432469;  5269910   NaN  NaN  NaN\n",
      "Ch2:;     4404755;  5332808   NaN  NaN  NaN\n",
      "Ch3:;     4400764;  4990275   NaN  NaN  NaN\n",
      "madshus_base7_ts_blue_ clockwise 45 turn.txt\n",
      "                  channal   min  max    x           y\n",
      "madshus base7          TS  blue   no  wax  directions\n",
      "Ch0:;   4436328;  5838693   NaN  NaN  NaN         NaN\n",
      "Ch1:;   4438486;  5211841   NaN  NaN  NaN         NaN\n",
      "Ch2:;   4406715;  5393239   NaN  NaN  NaN         NaN\n",
      "Ch3:;   4405022;  5047324   NaN  NaN  NaN         NaN\n",
      "fischer1_p33_6_hf8_fc6x_4km.txt\n",
      "                 channal      min   max    x    y\n",
      "þStartfischer1     p33-6      hf8  fc6x  4.0   km\n",
      "Ch0:;           4377246;  6136439   NaN  NaN  NaN\n",
      "Ch1:;           4361919;  5299389   NaN  NaN  NaN\n",
      "Ch2:;           4347099;  5412315   NaN  NaN  NaN\n",
      "Ch3:;           4336738;  5034490   NaN  NaN  NaN\n",
      "madshus_base7_ts_blue_point.txt\n",
      "  channal        min      max    x         y\n",
      "0       b        NaN      NaN  NaN       NaN\n",
      "1      10  Messungen      mit   3s  interval\n",
      "2   Ch1:;   4435687;  5236690  NaN       NaN\n",
      "3   Ch2:;   4408914;  5386563  NaN       NaN\n",
      "4   Ch3:;   4409267;  5066288  NaN       NaN\n",
      "madshus_base7_ts_blue.txt\n",
      "          channal      min   max    x    y\n",
      "madshus     base7       TS  blue   no  wax\n",
      "Ch0:;    4370101;  5912818   NaN  NaN  NaN\n",
      "Ch1:;    4382049;  5252938   NaN  NaN  NaN\n",
      "Ch2:;    4350132;  5407328   NaN  NaN  NaN\n",
      "Ch3:;    4333044;  5094175   NaN  NaN  NaN\n",
      "fischer_p33_6_hf8_fc6x.txt\n",
      "         channal       min      max     x   y\n",
      "0  þStartfischer     p33-6      hf8  fc6x NaN\n",
      "1          Ch0:;  4379160;  6024386   NaN NaN\n",
      "2          Ch1:;  4377638;  5268408   NaN NaN\n",
      "3          Ch2:;  4350030;  5318254   NaN NaN\n",
      "4          Ch3:;  4345238;  4996561   NaN NaN\n",
      "fischer2_p33_6_hf8_fc6x.txt\n",
      "    channal       min      max     x   y\n",
      "0  fischer2     p33-6      hf8  fcx6 NaN\n",
      "1     Ch0:;  4439164;  6123800   NaN NaN\n",
      "2     Ch1:;  4436158;  5315160   NaN NaN\n",
      "3     Ch2:;  4407620;  5356954   NaN NaN\n",
      "4     Ch3:;  4410351;  5013089   NaN NaN\n",
      "fischer1_p33_6_hf8_fc6x_0_9km.txt\n",
      "          channal       min      max     x      y\n",
      "0  þStartfischer1     p33-6      hf8  fc6x  0.9km\n",
      "1           Ch0:;  4376072;  6191629   NaN    NaN\n",
      "2           Ch1:;  4379084;  5293305   NaN    NaN\n",
      "3           Ch2:;  4349189;  5417217   NaN    NaN\n",
      "4           Ch3:;  4343124;  5027139   NaN    NaN\n",
      "fischer2_p33_6_hf8_fc6x_0_9km.txt\n",
      "                                             channal       min      max     x  \\\n",
      "0  þStart[00]ÿ[00][00][00][00][00][00][00][00][00...     p33-6      hf8  fcx6   \n",
      "1                                             þStart       NaN      NaN   NaN   \n",
      "2                                              Ch0:;  4374546;  6080874   NaN   \n",
      "3                                              Ch1:;  4377508;  5340762   NaN   \n",
      "4                                              Ch2:;  4346741;  5375178   NaN   \n",
      "\n",
      "    y  \n",
      "0 NaN  \n",
      "1 NaN  \n",
      "2 NaN  \n",
      "3 NaN  \n",
      "4 NaN  \n"
     ]
    }
   ],
   "source": [
    "a = {}\n",
    "\n",
    "for x in content:\n",
    "    print(x)\n",
    "    df = pd.read_csv(\n",
    "        \"./newdata/{}\".format(x),\n",
    "        names=[\"channal\", \"min\", \"max\", \"x\", \"y\"],\n",
    "        sep=\"\\s+\",\n",
    "        encoding=\"iso-8859-1\",\n",
    "    )\n",
    "    dx = df.drop([\"x\", \"y\"], axis=1)\n",
    "    print(df.head())\n",
    "    # dx['min']= dx['min'].map(lambda x: x.lstrip('+-;').rstrip('aAbBcC;'))\n",
    "    # dx['channal']= dx['channal'].map(lambda x: x.lstrip(';').rstrip(';'))\n",
    "    # #idx=dx.index();\n",
    "    # if 100 in dx.index:\n",
    "    #     dx=dx.drop(100);\n",
    "    # dx['min']=pd.to_numeric(dx['min'])\n",
    "    # dx['max']=pd.to_numeric(dx['max'])\n",
    "    # dx.index.name=x\n",
    "    # a[x]=dx\n",
    "    # print(a[x].head())\n",
    "    # break;"
   ]
  },
  {
   "cell_type": "code",
   "execution_count": null,
   "metadata": {},
   "outputs": [],
   "source": [
    "# df=pd.read_csv(\"./newdata/fischer1_p33_6_hf8_fc6x_4km.txt\",names=['channal','min','max','x','y'],sep='\\s+',engine='python',encoding='iso-8859-1',skiprows=1)\n",
    "# dx=df.drop(['x', 'y'], axis=1)\n",
    "# dx['min']= dx['min'].map(lambda x: x.lstrip('+-;').rstrip('aAbBcC;'))\n",
    "# dx['channal']= dx['channal'].map(lambda x: x.lstrip(';').rstrip(';'))\n",
    "# #dx=dx.drop(100);\n",
    "# dx['min']=pd.to_numeric(dx['min'])\n",
    "# dx['max']=pd.to_numeric(dx['max'])\n",
    "# dx.index.name=\"fischer1_p33_6_hf8_fc6x_4km\"\n",
    "# dx.to_excel(\"formatet.xlsx\");\n",
    "# dx.head(10)"
   ]
  },
  {
   "cell_type": "code",
   "execution_count": 5,
   "metadata": {},
   "outputs": [
    {
     "name": "stdout",
     "output_type": "stream",
     "text": [
      "hallo Wolrd!\n"
     ]
    }
   ],
   "source": [
    "print(\"hallo Wolrd!\")"
   ]
  },
  {
   "cell_type": "code",
   "execution_count": 1,
   "metadata": {},
   "outputs": [
    {
     "ename": "NameError",
     "evalue": "name 'content' is not defined",
     "output_type": "error",
     "traceback": [
      "\u001b[0;31m---------------------------------------------------------------------------\u001b[0m",
      "\u001b[0;31mNameError\u001b[0m                                 Traceback (most recent call last)",
      "\u001b[0;32m<ipython-input-1-1d5ea271f156>\u001b[0m in \u001b[0;36m<module>\u001b[0;34m\u001b[0m\n\u001b[0;32m----> 1\u001b[0;31m \u001b[0;32mfor\u001b[0m \u001b[0mitem\u001b[0m \u001b[0;32min\u001b[0m \u001b[0mcontent\u001b[0m\u001b[0;34m:\u001b[0m\u001b[0;34m\u001b[0m\u001b[0;34m\u001b[0m\u001b[0m\n\u001b[0m\u001b[1;32m      2\u001b[0m     \u001b[0;31m# delete the text files and the urls files to clean the library\u001b[0m\u001b[0;34m\u001b[0m\u001b[0;34m\u001b[0m\u001b[0;34m\u001b[0m\u001b[0m\n\u001b[1;32m      3\u001b[0m     \u001b[0mprint\u001b[0m\u001b[0;34m(\u001b[0m\u001b[0mitem\u001b[0m\u001b[0;34m)\u001b[0m\u001b[0;34m\u001b[0m\u001b[0;34m\u001b[0m\u001b[0m\n\u001b[1;32m      4\u001b[0m     \u001b[0;32mif\u001b[0m \u001b[0mitem\u001b[0m\u001b[0;34m.\u001b[0m\u001b[0mfind\u001b[0m\u001b[0;34m(\u001b[0m\u001b[0;34m\".txt\"\u001b[0m\u001b[0;34m)\u001b[0m \u001b[0;34m>\u001b[0m \u001b[0;36m0\u001b[0m\u001b[0;34m:\u001b[0m\u001b[0;34m\u001b[0m\u001b[0;34m\u001b[0m\u001b[0m\n\u001b[1;32m      5\u001b[0m         \u001b[0;31m# print(item)\u001b[0m\u001b[0;34m\u001b[0m\u001b[0;34m\u001b[0m\u001b[0;34m\u001b[0m\u001b[0m\n",
      "\u001b[0;31mNameError\u001b[0m: name 'content' is not defined"
     ]
    }
   ],
   "source": []
  },
  {
   "cell_type": "code",
   "execution_count": null,
   "metadata": {},
   "outputs": [],
   "source": []
  }
 ],
 "metadata": {
  "kernelspec": {
   "display_name": "Python 3",
   "language": "python",
   "name": "python3"
  },
  "language_info": {
   "codemirror_mode": {
    "name": "ipython",
    "version": 3
   },
   "file_extension": ".py",
   "mimetype": "text/x-python",
   "name": "python",
   "nbconvert_exporter": "python",
   "pygments_lexer": "ipython3",
   "version": "3.7.6"
  }
 },
 "nbformat": 4,
 "nbformat_minor": 4
}
