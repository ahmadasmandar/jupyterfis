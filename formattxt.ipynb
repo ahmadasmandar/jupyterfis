{
 "cells": [
  {
   "cell_type": "code",
   "execution_count": 4,
   "metadata": {},
   "outputs": [],
   "source": [
    "import matplotlib.pyplot as plt\n",
    "import pandas as pd\n",
    "import seaborn as sb"
   ]
  },
  {
   "cell_type": "markdown",
   "metadata": {},
   "source": [
    "# Data files full clean"
   ]
  },
  {
   "cell_type": "code",
   "execution_count": 5,
   "metadata": {
    "tags": []
   },
   "outputs": [
    {
     "name": "stdout",
     "output_type": "stream",
     "text": [
      "fischer2_p33_6_hf8_fc6x_4km.txt\n",
      "madshus_base7_ts_blue_ clockwise 45 turn.txt\n",
      "fischer1_p33_6_hf8_fc6x_4km.txt\n",
      "madshus_base7_ts_blue_point.txt\n",
      "madshus_base7_ts_blue.txt\n",
      "fischer_p33_6_hf8_fc6x.txt\n",
      "fischer2_p33_6_hf8_fc6x.txt\n",
      "fischer1_p33_6_hf8_fc6x_0_9km.txt\n",
      "fischer2_p33_6_hf8_fc6x_0_9km.txt\n"
     ]
    }
   ],
   "source": [
    "import os\n",
    "import re\n",
    "\n",
    "if not os.path.exists(\"./cleandata\"):\n",
    "    os.makedirs(\"./cleandata\")\n",
    "content = os.listdir(\"./newdata\")\n",
    "\n",
    "for item in content:\n",
    "    # delete the text files and the urls files to clean the library\n",
    "    print(item)\n",
    "    if item.find(\".txt\") > 0:\n",
    "        # print(item)\n",
    "        with open(\"./newdata/{}\".format(item), \"r\", encoding=\"iso-8859-1\") as f:\n",
    "            lines = f.readlines()\n",
    "        # if (os.path.exists(\"./cleandata/{}\".format(item))):\n",
    "        with open(\"./cleandata/{}\".format(item), \"w+\") as f:\n",
    "\n",
    "            for line in lines:\n",
    "                if \"10 Messungen\" in line.strip(\"\\n\"):\n",
    "                    line = line[line.find(\"Ch\") :]\n",
    "                    # print(newline)\n",
    "                # if (line.strip(\"\\n\") != \"þStartfischer1 p33-6 hf8 fc6x 0.9km\")\n",
    "                if \"Ch\" in line.strip(\"\\n\") or \"V\" in line.strip(\"\\n\"):\n",
    "                    f.write(line.replace(\";\", \"\"))\n",
    "f.close()\n",
    "\n",
    "# print(content)"
   ]
  },
  {
   "cell_type": "code",
   "execution_count": 95,
   "metadata": {},
   "outputs": [],
   "source": [
    "a = {}\n",
    "fdfr=pd.DataFrame()\n",
    "for x in content:\n",
    "    # print(x)\n",
    "    df = pd.read_csv(\n",
    "        \"./cleandata/{}\".format(x),\n",
    "        names=[\"channal\", \"min\", \"max\", \"x\", \"y\"],\n",
    "        sep=\"\\s+\",\n",
    "        encoding=\"utf\",\n",
    "    )\n",
    "    dx = df.drop([\"x\", \"y\"], axis=1)\n",
    "    # print(df.head())\n",
    "    dx[\"min\"] = dx[\"min\"]  # .map(lambda x: x.lstrip(\"+-;\").rstrip(\"aAbBcC;\"))\n",
    "    dx[\"channal\"] = dx[\"channal\"]  # .map(lambda x: x.lstrip(\";\").rstrip(\";\"))\n",
    "    # idx=dx.index();\n",
    "    if 100 in dx.index:\n",
    "        dx = dx.drop(100)\n",
    "    dx[\"min\"] = pd.to_numeric(dx[\"min\"])\n",
    "    dx[\"max\"] = pd.to_numeric(dx[\"max\"])\n",
    "    dx[\"deltas\"] = dx[\"max\"] - dx[\"min\"]\n",
    "#     dx[\"name\"] = x.strip('.txt')\n",
    "    dx.index.name = x\n",
    "    #convert x to var name\n",
    "    #globals()[x] =dx\n",
    "    a[x] = dx\n",
    "    #fdfr.append(dx,ignore_index = True)\n",
    "    #print(a[x].head())\n",
    "    #break;"
   ]
  },
  {
   "cell_type": "code",
   "execution_count": null,
   "metadata": {},
   "outputs": [],
   "source": []
  },
  {
   "cell_type": "code",
   "execution_count": 102,
   "metadata": {
    "scrolled": true
   },
   "outputs": [
    {
     "name": "stdout",
     "output_type": "stream",
     "text": [
      "   fischer2_p33_6_hf8_fc6x_4km.txt channal      min        max     deltas  \\\n",
      "0                                0    Ch0:  4433955  6042328.0  1608373.0   \n",
      "1                                1    Ch1:  4432469  5269910.0   837441.0   \n",
      "2                                2    Ch2:  4404755  5332808.0   928053.0   \n",
      "3                                3    Ch3:  4400764  4990275.0   589511.0   \n",
      "4                                4    Ch4:      439    65522.0    65083.0   \n",
      "\n",
      "   madshus_base7_ts_blue_ clockwise 45 turn.txt channal        min        max  \\\n",
      "0                                           0.0    Ch0:  4436328.0  5838693.0   \n",
      "1                                           1.0    Ch1:  4438486.0  5211841.0   \n",
      "2                                           2.0    Ch2:  4406715.0  5393239.0   \n",
      "3                                           3.0    Ch3:  4405022.0  5047324.0   \n",
      "4                                           4.0    Ch4:       51.0    53840.0   \n",
      "\n",
      "      deltas  \n",
      "0  1402365.0  \n",
      "1   773355.0  \n",
      "2   986524.0  \n",
      "3   642302.0  \n",
      "4    53789.0  \n"
     ]
    }
   ],
   "source": [
    "keys_list = list(a)\n",
    "#print(keys_list)\n",
    "#print(a[keys_list[0]])\n",
    "df0=pd.DataFrame(a[keys_list[0]]).reset_index()\n",
    "df1=pd.DataFrame(a[keys_list[1]]).reset_index()\n",
    "#print(df0.head())\n",
    "# for x in keys_list:\n",
    "#     df0.append(pd.DataFrame(a[x]))\n",
    "    \n",
    "#print(df0.head(5))\n",
    "# df0=df0.merge(df1,how='right')\n",
    "# df0.to_excel(\"df0.xlsx\")\n",
    "#print(df0.head())\n",
    "result=pd.concat([df0,df1],axis=1)\n",
    "print(result.head())\n",
    "result.to_excel(\"result.xlsx\")"
   ]
  },
  {
   "cell_type": "code",
   "execution_count": 93,
   "metadata": {},
   "outputs": [],
   "source": [
    "# df=pd.read_csv(\"./newdata/fischer1_p33_6_hf8_fc6x_4km.txt\",names=['channal','min','max','x','y'],sep='\\s+',engine='python',encoding='iso-8859-1',skiprows=1)\n",
    "# dx=df.drop(['x', 'y'], axis=1)\n",
    "# dx['min']= dx['min'].map(lambda x: x.lstrip('+-;').rstrip('aAbBcC;'))\n",
    "# dx['channal']= dx['channal'].map(lambda x: x.lstrip(';').rstrip(';'))\n",
    "# #dx=dx.drop(100);\n",
    "# dx['min']=pd.to_numeric(dx['min'])\n",
    "# dx['max']=pd.to_numeric(dx['max'])\n",
    "# dx.index.name=\"fischer1_p33_6_hf8_fc6x_4km\"\n",
    "# dx.to_excel(\"formatet.xlsx\");\n",
    "# dx.head(10)"
   ]
  },
  {
   "cell_type": "code",
   "execution_count": 5,
   "metadata": {},
   "outputs": [
    {
     "name": "stdout",
     "output_type": "stream",
     "text": [
      "hallo Wolrd!\n"
     ]
    }
   ],
   "source": [
    "print(\"hallo Wolrd!\")"
   ]
  },
  {
   "cell_type": "code",
   "execution_count": null,
   "metadata": {},
   "outputs": [],
   "source": []
  },
  {
   "cell_type": "code",
   "execution_count": null,
   "metadata": {},
   "outputs": [],
   "source": []
  }
 ],
 "metadata": {
  "kernelspec": {
   "display_name": "Python 3",
   "language": "python",
   "name": "python3"
  },
  "language_info": {
   "codemirror_mode": {
    "name": "ipython",
    "version": 3
   },
   "file_extension": ".py",
   "mimetype": "text/x-python",
   "name": "python",
   "nbconvert_exporter": "python",
   "pygments_lexer": "ipython3",
   "version": "3.7.6"
  }
 },
 "nbformat": 4,
 "nbformat_minor": 4
}
